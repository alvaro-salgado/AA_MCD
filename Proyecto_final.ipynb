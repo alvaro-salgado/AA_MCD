{
  "nbformat": 4,
  "nbformat_minor": 0,
  "metadata": {
    "colab": {
      "provenance": [],
      "authorship_tag": "ABX9TyPdBXGyvlurwL0z3m2iLlyo",
      "include_colab_link": true
    },
    "kernelspec": {
      "name": "python3",
      "display_name": "Python 3"
    },
    "language_info": {
      "name": "python"
    }
  },
  "cells": [
    {
      "cell_type": "markdown",
      "metadata": {
        "id": "view-in-github",
        "colab_type": "text"
      },
      "source": [
        "<a href=\"https://colab.research.google.com/github/alvaro-salgado/AA_MCD/blob/main/Proyecto_final.ipynb\" target=\"_parent\"><img src=\"https://colab.research.google.com/assets/colab-badge.svg\" alt=\"Open In Colab\"/></a>"
      ]
    },
    {
      "cell_type": "markdown",
      "source": [
        "# Reporte Final\n"
      ],
      "metadata": {
        "id": "q1KLLUfh193a"
      }
    },
    {
      "cell_type": "markdown",
      "source": [
        "Aprendizaje supervisado"
      ],
      "metadata": {
        "id": "o88xTnLj2BOM"
      }
    },
    {
      "cell_type": "code",
      "source": [
        "# Importar las bibliotecas necesarias\n",
        "import pandas as pd\n",
        "from sklearn.model_selection import train_test_split\n",
        "from sklearn.preprocessing import StandardScaler\n",
        "from sklearn.svm import SVC\n",
        "from sklearn.metrics import classification_report, accuracy_score, precision_score,recall_score,f1_score\n",
        "import numpy as np\n",
        "from sklearn.mixture import GaussianMixture\n",
        "import matplotlib.pyplot as plt\n",
        "from sklearn.preprocessing import StandardScaler\n",
        "from sklearn.decomposition import PCA\n",
        "from sklearn.preprocessing import LabelEncoder\n",
        "from sklearn.metrics import confusion_matrix\n",
        "import seaborn as sns\n",
        "from sklearn.metrics import silhouette_score\n",
        "\n",
        "\n"
      ],
      "metadata": {
        "id": "iV76dh8c0bqc"
      },
      "execution_count": 118,
      "outputs": []
    },
    {
      "cell_type": "code",
      "source": [
        "# Cargar el dataset\n",
        "file_path = '/content/train.csv'\n",
        "data = pd.read_csv(file_path)\n",
        "datos = pd.read_csv(file_path)"
      ],
      "metadata": {
        "id": "uCIGk8t70eGQ"
      },
      "execution_count": 167,
      "outputs": []
    },
    {
      "cell_type": "markdown",
      "source": [
        "Preprocesamiento de los datos\n"
      ],
      "metadata": {
        "id": "F2BuZr1Ahax_"
      }
    },
    {
      "cell_type": "code",
      "source": [
        "# Mapear etiquetas de actividad de inglés a español\n",
        "activity_labels = {\n",
        "    \"WALKING\": \"Caminar\",\n",
        "    \"WALKING_UPSTAIRS\": \"Subiendo escaleras\",\n",
        "    \"WALKING_DOWNSTAIRS\": \"Bajando escaleras\",\n",
        "    \"SITTING\": \"Sentado\",\n",
        "    \"STANDING\": \"De pie\",\n",
        "    \"LAYING\": \"Acostado\"\n",
        "}\n",
        "\n",
        "# Ver las etiquetas originales únicas\n",
        "original_labels = data['Activity'].unique()\n",
        "print(\"Etiquetas originales:\", original_labels)\n",
        "\n",
        "# Traducir las etiquetas de la columna 'Activity'\n",
        "data['Activity'] = data['Activity'].map(activity_labels)\n",
        "\n",
        "# Verificar la traducción\n",
        "translated_labels = data['Activity'].unique()\n",
        "print(\"Etiquetas traducidas:\", translated_labels)"
      ],
      "metadata": {
        "colab": {
          "base_uri": "https://localhost:8080/"
        },
        "id": "NS1UZN9J0gNV",
        "outputId": "9bb65b34-ad08-4f1b-bad8-3ed700d1d767"
      },
      "execution_count": 168,
      "outputs": [
        {
          "output_type": "stream",
          "name": "stdout",
          "text": [
            "Etiquetas originales: ['STANDING' 'SITTING' 'LAYING' 'WALKING' 'WALKING_DOWNSTAIRS'\n",
            " 'WALKING_UPSTAIRS']\n",
            "Etiquetas traducidas: ['De pie' 'Sentado' 'Acostado' 'Caminar' 'Bajando escaleras'\n",
            " 'Subiendo escaleras']\n"
          ]
        }
      ]
    },
    {
      "cell_type": "code",
      "source": [
        "# Convertir la columna 'Activity' en etiquetas numéricas\n",
        "label_encoder = LabelEncoder()\n",
        "data['Activity'] = label_encoder.fit_transform(data['Activity'])\n",
        "\n",
        "# Separar características y etiquetas\n",
        "X = data.drop(['Activity', 'subject'], axis=1)\n",
        "y = data['Activity']"
      ],
      "metadata": {
        "id": "cFo9aY3K0j_g"
      },
      "execution_count": 169,
      "outputs": []
    },
    {
      "cell_type": "code",
      "source": [
        "label_encoder.classes_"
      ],
      "metadata": {
        "colab": {
          "base_uri": "https://localhost:8080/"
        },
        "id": "nlfeMlJhqJC1",
        "outputId": "0886992a-b376-4a26-b7d8-8a3a40f45709"
      },
      "execution_count": 170,
      "outputs": [
        {
          "output_type": "execute_result",
          "data": {
            "text/plain": [
              "array(['Acostado', 'Bajando escaleras', 'Caminar', 'De pie', 'Sentado',\n",
              "       'Subiendo escaleras'], dtype=object)"
            ]
          },
          "metadata": {},
          "execution_count": 170
        }
      ]
    },
    {
      "cell_type": "code",
      "source": [
        "print(y.unique())\n",
        "datos['Activity'].unique()"
      ],
      "metadata": {
        "colab": {
          "base_uri": "https://localhost:8080/"
        },
        "id": "9E29EjFJmvSk",
        "outputId": "5ee8fe9f-2736-4086-d46f-d376b2c1e39f"
      },
      "execution_count": 160,
      "outputs": [
        {
          "output_type": "stream",
          "name": "stdout",
          "text": [
            "[2 1 0 3 4 5]\n"
          ]
        },
        {
          "output_type": "execute_result",
          "data": {
            "text/plain": [
              "array(['STANDING', 'SITTING', 'LAYING', 'WALKING', 'WALKING_DOWNSTAIRS',\n",
              "       'WALKING_UPSTAIRS'], dtype=object)"
            ]
          },
          "metadata": {},
          "execution_count": 160
        }
      ]
    },
    {
      "cell_type": "code",
      "source": [
        "# Dividir los datos en conjunto de entrenamiento y conjunto de prueba\n",
        "X_train, X_test, y_train, y_test = train_test_split(X, y, test_size=0.2, random_state=42)"
      ],
      "metadata": {
        "id": "rWmH6To10nGa"
      },
      "execution_count": 122,
      "outputs": []
    },
    {
      "cell_type": "code",
      "source": [
        "# Normalizar los datos (opcional pero recomendado para SVM)\n",
        "scaler = StandardScaler()\n",
        "X_train_scaled = scaler.fit_transform(X_train)\n",
        "X_test_scaled = scaler.transform(X_test)"
      ],
      "metadata": {
        "id": "d2aMrdFQ0r2n"
      },
      "execution_count": 123,
      "outputs": []
    },
    {
      "cell_type": "markdown",
      "source": [
        "Aprendizaje Supervisado (SVM)"
      ],
      "metadata": {
        "id": "YHxfMg50hea6"
      }
    },
    {
      "cell_type": "code",
      "source": [
        "# Definir una lista de parámetros para probar\n",
        "kernels = ['linear', 'poly', 'rbf']\n",
        "C_values = [0.1, 1, 10]\n",
        "gamma_values = [0.1, 1, 10]"
      ],
      "metadata": {
        "id": "Qjr0PVyN5jRw"
      },
      "execution_count": 75,
      "outputs": []
    },
    {
      "cell_type": "code",
      "source": [
        "# Función para evaluar el modelo SVM\n",
        "def evaluate_svm(kernel, C, gamma=None):\n",
        "    if kernel == 'linear':\n",
        "        model = SVC(kernel=kernel, C=C)\n",
        "    else:\n",
        "        model = SVC(kernel=kernel, C=C, gamma=gamma)\n",
        "\n",
        "    model.fit(X_train_scaled, y_train)\n",
        "    y_pred = model.predict(X_test_scaled)\n",
        "\n",
        "    # Calcular métricas de evaluación\n",
        "    accuracy = accuracy_score(y_test, y_pred)\n",
        "    precision = precision_score(y_test, y_pred, average='weighted')\n",
        "    recall = recall_score(y_test, y_pred, average='weighted')\n",
        "    f1 = f1_score(y_test, y_pred, average='weighted')\n",
        "    conf_matrix = confusion_matrix(y_test, y_pred)\n",
        "\n",
        "    return {\n",
        "        'kernel': kernel,\n",
        "        'C': C,\n",
        "        'gamma': gamma,\n",
        "        'accuracy': accuracy,\n",
        "        'precision': precision,\n",
        "        'recall': recall,\n",
        "        'f1_score': f1,\n",
        "        'confusion_matrix': conf_matrix\n",
        "    }\n"
      ],
      "metadata": {
        "id": "3xvQUigY6KR_"
      },
      "execution_count": 101,
      "outputs": []
    },
    {
      "cell_type": "code",
      "source": [
        "# Evaluar SVM con diferentes parámetros\n",
        "svm_results = []\n",
        "for kernel in kernels:\n",
        "    for C in C_values:\n",
        "        if kernel == 'linear':\n",
        "            result = evaluate_svm(kernel, C)\n",
        "            svm_results.append(result)\n",
        "        else:\n",
        "            for gamma in gamma_values:\n",
        "                result = evaluate_svm(kernel, C, gamma)\n",
        "                svm_results.append(result)"
      ],
      "metadata": {
        "colab": {
          "base_uri": "https://localhost:8080/"
        },
        "id": "I874T_MY6Q_G",
        "outputId": "a6528ee2-8e15-4ca2-c7c5-3a83f967d165"
      },
      "execution_count": 117,
      "outputs": [
        {
          "output_type": "stream",
          "name": "stderr",
          "text": [
            "/usr/local/lib/python3.10/dist-packages/sklearn/metrics/_classification.py:1344: UndefinedMetricWarning: Precision is ill-defined and being set to 0.0 in labels with no predicted samples. Use `zero_division` parameter to control this behavior.\n",
            "  _warn_prf(average, modifier, msg_start, len(result))\n",
            "/usr/local/lib/python3.10/dist-packages/sklearn/metrics/_classification.py:1344: UndefinedMetricWarning: Precision is ill-defined and being set to 0.0 in labels with no predicted samples. Use `zero_division` parameter to control this behavior.\n",
            "  _warn_prf(average, modifier, msg_start, len(result))\n",
            "/usr/local/lib/python3.10/dist-packages/sklearn/metrics/_classification.py:1344: UndefinedMetricWarning: Precision is ill-defined and being set to 0.0 in labels with no predicted samples. Use `zero_division` parameter to control this behavior.\n",
            "  _warn_prf(average, modifier, msg_start, len(result))\n",
            "/usr/local/lib/python3.10/dist-packages/sklearn/metrics/_classification.py:1344: UndefinedMetricWarning: Precision is ill-defined and being set to 0.0 in labels with no predicted samples. Use `zero_division` parameter to control this behavior.\n",
            "  _warn_prf(average, modifier, msg_start, len(result))\n",
            "/usr/local/lib/python3.10/dist-packages/sklearn/metrics/_classification.py:1344: UndefinedMetricWarning: Precision is ill-defined and being set to 0.0 in labels with no predicted samples. Use `zero_division` parameter to control this behavior.\n",
            "  _warn_prf(average, modifier, msg_start, len(result))\n",
            "/usr/local/lib/python3.10/dist-packages/sklearn/metrics/_classification.py:1344: UndefinedMetricWarning: Precision is ill-defined and being set to 0.0 in labels with no predicted samples. Use `zero_division` parameter to control this behavior.\n",
            "  _warn_prf(average, modifier, msg_start, len(result))\n",
            "/usr/local/lib/python3.10/dist-packages/sklearn/metrics/_classification.py:1344: UndefinedMetricWarning: Precision is ill-defined and being set to 0.0 in labels with no predicted samples. Use `zero_division` parameter to control this behavior.\n",
            "  _warn_prf(average, modifier, msg_start, len(result))\n",
            "/usr/local/lib/python3.10/dist-packages/sklearn/metrics/_classification.py:1344: UndefinedMetricWarning: Precision is ill-defined and being set to 0.0 in labels with no predicted samples. Use `zero_division` parameter to control this behavior.\n",
            "  _warn_prf(average, modifier, msg_start, len(result))\n",
            "/usr/local/lib/python3.10/dist-packages/sklearn/metrics/_classification.py:1344: UndefinedMetricWarning: Precision is ill-defined and being set to 0.0 in labels with no predicted samples. Use `zero_division` parameter to control this behavior.\n",
            "  _warn_prf(average, modifier, msg_start, len(result))\n"
          ]
        }
      ]
    },
    {
      "cell_type": "code",
      "source": [
        "# Mostrar resultados\n",
        "\"\"\"\"\n",
        "for result in svm_results:\n",
        "    print(f\"SVM Kernel: {result['kernel']}, C: {result['C']}, Gamma: {result['gamma']}\")\n",
        "    print(\"Accuracy:\", result['accuracy'])\n",
        "    print(\"Precision:\", result['precision'])\n",
        "    print(\"Recall:\", result['recall'])\n",
        "    print(\"F1 Score:\", result['f1_score'])\n",
        "    print(\"Confusion Matrix:\\n\", result['confusion_matrix'])\n",
        "    print(\"-\" * 50)\n",
        "\n",
        "    \"\"\""
      ],
      "metadata": {
        "colab": {
          "base_uri": "https://localhost:8080/",
          "height": 86
        },
        "id": "wUhHF9LI6wNJ",
        "outputId": "bff94248-6e6c-4210-c892-68588b4154e7"
      },
      "execution_count": 116,
      "outputs": [
        {
          "output_type": "execute_result",
          "data": {
            "text/plain": [
              "'\"\\nfor result in svm_results:\\n    print(f\"SVM Kernel: {result[\\'kernel\\']}, C: {result[\\'C\\']}, Gamma: {result[\\'gamma\\']}\")\\n    print(\"Accuracy:\", result[\\'accuracy\\'])\\n    print(\"Precision:\", result[\\'precision\\'])\\n    print(\"Recall:\", result[\\'recall\\'])\\n    print(\"F1 Score:\", result[\\'f1_score\\'])\\n    print(\"Confusion Matrix:\\n\", result[\\'confusion_matrix\\'])\\n    print(\"-\" * 50)\\n\\n    '"
            ],
            "application/vnd.google.colaboratory.intrinsic+json": {
              "type": "string"
            }
          },
          "metadata": {},
          "execution_count": 116
        }
      ]
    },
    {
      "cell_type": "code",
      "source": [
        "svm_results_df = pd.DataFrame(svm_results)\n",
        "svm_results_df.sort_values(by = 'accuracy', ascending = False)"
      ],
      "metadata": {
        "colab": {
          "base_uri": "https://localhost:8080/",
          "height": 700
        },
        "id": "2_B4O_2u7uw0",
        "outputId": "e6c65428-2495-4d91-935d-b3fc9260a913"
      },
      "execution_count": 104,
      "outputs": [
        {
          "output_type": "execute_result",
          "data": {
            "text/plain": [
              "    kernel     C  gamma  accuracy  precision    recall  f1_score  \\\n",
              "10    poly  10.0    1.0  0.985724   0.985844  0.985724  0.985722   \n",
              "9     poly  10.0    0.1  0.985724   0.985844  0.985724  0.985722   \n",
              "11    poly  10.0   10.0  0.985724   0.985844  0.985724  0.985722   \n",
              "3     poly   0.1    0.1  0.985724   0.985844  0.985724  0.985722   \n",
              "4     poly   0.1    1.0  0.985724   0.985844  0.985724  0.985722   \n",
              "5     poly   0.1   10.0  0.985724   0.985844  0.985724  0.985722   \n",
              "6     poly   1.0    0.1  0.985724   0.985844  0.985724  0.985722   \n",
              "7     poly   1.0    1.0  0.985724   0.985844  0.985724  0.985722   \n",
              "8     poly   1.0   10.0  0.985724   0.985844  0.985724  0.985722   \n",
              "0   linear   0.1    NaN  0.984364   0.984379  0.984364  0.984363   \n",
              "1   linear   1.0    NaN  0.982325   0.982358  0.982325  0.982326   \n",
              "2   linear  10.0    NaN  0.976886   0.976920  0.976886  0.976888   \n",
              "18     rbf  10.0    0.1  0.196465   0.402193  0.196465  0.073171   \n",
              "15     rbf   1.0    0.1  0.193746   0.402093  0.193746  0.067766   \n",
              "12     rbf   0.1    0.1  0.190347   0.036232  0.190347  0.060876   \n",
              "13     rbf   0.1    1.0  0.190347   0.036232  0.190347  0.060876   \n",
              "14     rbf   0.1   10.0  0.190347   0.036232  0.190347  0.060876   \n",
              "16     rbf   1.0    1.0  0.190347   0.036232  0.190347  0.060876   \n",
              "17     rbf   1.0   10.0  0.190347   0.036232  0.190347  0.060876   \n",
              "19     rbf  10.0    1.0  0.190347   0.036232  0.190347  0.060876   \n",
              "20     rbf  10.0   10.0  0.190347   0.036232  0.190347  0.060876   \n",
              "\n",
              "                                     confusion_matrix  \n",
              "10  [[280, 0, 0, 0, 0, 0], [0, 203, 1, 0, 0, 2], [...  \n",
              "9   [[280, 0, 0, 0, 0, 0], [0, 203, 1, 0, 0, 2], [...  \n",
              "11  [[280, 0, 0, 0, 0, 0], [0, 203, 1, 0, 0, 2], [...  \n",
              "3   [[280, 0, 0, 0, 0, 0], [0, 203, 1, 0, 0, 2], [...  \n",
              "4   [[280, 0, 0, 0, 0, 0], [0, 203, 1, 0, 0, 2], [...  \n",
              "5   [[280, 0, 0, 0, 0, 0], [0, 203, 1, 0, 0, 2], [...  \n",
              "6   [[280, 0, 0, 0, 0, 0], [0, 203, 1, 0, 0, 2], [...  \n",
              "7   [[280, 0, 0, 0, 0, 0], [0, 203, 1, 0, 0, 2], [...  \n",
              "8   [[280, 0, 0, 0, 0, 0], [0, 203, 1, 0, 0, 2], [...  \n",
              "0   [[280, 0, 0, 0, 0, 0], [0, 205, 1, 0, 0, 0], [...  \n",
              "1   [[280, 0, 0, 0, 0, 0], [0, 205, 1, 0, 0, 0], [...  \n",
              "2   [[280, 0, 0, 0, 0, 0], [0, 205, 1, 0, 0, 0], [...  \n",
              "18  [[280, 0, 0, 0, 0, 0], [206, 0, 0, 0, 0, 0], [...  \n",
              "15  [[280, 0, 0, 0, 0, 0], [206, 0, 0, 0, 0, 0], [...  \n",
              "12  [[280, 0, 0, 0, 0, 0], [206, 0, 0, 0, 0, 0], [...  \n",
              "13  [[280, 0, 0, 0, 0, 0], [206, 0, 0, 0, 0, 0], [...  \n",
              "14  [[280, 0, 0, 0, 0, 0], [206, 0, 0, 0, 0, 0], [...  \n",
              "16  [[280, 0, 0, 0, 0, 0], [206, 0, 0, 0, 0, 0], [...  \n",
              "17  [[280, 0, 0, 0, 0, 0], [206, 0, 0, 0, 0, 0], [...  \n",
              "19  [[280, 0, 0, 0, 0, 0], [206, 0, 0, 0, 0, 0], [...  \n",
              "20  [[280, 0, 0, 0, 0, 0], [206, 0, 0, 0, 0, 0], [...  "
            ],
            "text/html": [
              "\n",
              "  <div id=\"df-b5b44dbe-8a1f-44af-87ff-2a741ebb648b\" class=\"colab-df-container\">\n",
              "    <div>\n",
              "<style scoped>\n",
              "    .dataframe tbody tr th:only-of-type {\n",
              "        vertical-align: middle;\n",
              "    }\n",
              "\n",
              "    .dataframe tbody tr th {\n",
              "        vertical-align: top;\n",
              "    }\n",
              "\n",
              "    .dataframe thead th {\n",
              "        text-align: right;\n",
              "    }\n",
              "</style>\n",
              "<table border=\"1\" class=\"dataframe\">\n",
              "  <thead>\n",
              "    <tr style=\"text-align: right;\">\n",
              "      <th></th>\n",
              "      <th>kernel</th>\n",
              "      <th>C</th>\n",
              "      <th>gamma</th>\n",
              "      <th>accuracy</th>\n",
              "      <th>precision</th>\n",
              "      <th>recall</th>\n",
              "      <th>f1_score</th>\n",
              "      <th>confusion_matrix</th>\n",
              "    </tr>\n",
              "  </thead>\n",
              "  <tbody>\n",
              "    <tr>\n",
              "      <th>10</th>\n",
              "      <td>poly</td>\n",
              "      <td>10.0</td>\n",
              "      <td>1.0</td>\n",
              "      <td>0.985724</td>\n",
              "      <td>0.985844</td>\n",
              "      <td>0.985724</td>\n",
              "      <td>0.985722</td>\n",
              "      <td>[[280, 0, 0, 0, 0, 0], [0, 203, 1, 0, 0, 2], [...</td>\n",
              "    </tr>\n",
              "    <tr>\n",
              "      <th>9</th>\n",
              "      <td>poly</td>\n",
              "      <td>10.0</td>\n",
              "      <td>0.1</td>\n",
              "      <td>0.985724</td>\n",
              "      <td>0.985844</td>\n",
              "      <td>0.985724</td>\n",
              "      <td>0.985722</td>\n",
              "      <td>[[280, 0, 0, 0, 0, 0], [0, 203, 1, 0, 0, 2], [...</td>\n",
              "    </tr>\n",
              "    <tr>\n",
              "      <th>11</th>\n",
              "      <td>poly</td>\n",
              "      <td>10.0</td>\n",
              "      <td>10.0</td>\n",
              "      <td>0.985724</td>\n",
              "      <td>0.985844</td>\n",
              "      <td>0.985724</td>\n",
              "      <td>0.985722</td>\n",
              "      <td>[[280, 0, 0, 0, 0, 0], [0, 203, 1, 0, 0, 2], [...</td>\n",
              "    </tr>\n",
              "    <tr>\n",
              "      <th>3</th>\n",
              "      <td>poly</td>\n",
              "      <td>0.1</td>\n",
              "      <td>0.1</td>\n",
              "      <td>0.985724</td>\n",
              "      <td>0.985844</td>\n",
              "      <td>0.985724</td>\n",
              "      <td>0.985722</td>\n",
              "      <td>[[280, 0, 0, 0, 0, 0], [0, 203, 1, 0, 0, 2], [...</td>\n",
              "    </tr>\n",
              "    <tr>\n",
              "      <th>4</th>\n",
              "      <td>poly</td>\n",
              "      <td>0.1</td>\n",
              "      <td>1.0</td>\n",
              "      <td>0.985724</td>\n",
              "      <td>0.985844</td>\n",
              "      <td>0.985724</td>\n",
              "      <td>0.985722</td>\n",
              "      <td>[[280, 0, 0, 0, 0, 0], [0, 203, 1, 0, 0, 2], [...</td>\n",
              "    </tr>\n",
              "    <tr>\n",
              "      <th>5</th>\n",
              "      <td>poly</td>\n",
              "      <td>0.1</td>\n",
              "      <td>10.0</td>\n",
              "      <td>0.985724</td>\n",
              "      <td>0.985844</td>\n",
              "      <td>0.985724</td>\n",
              "      <td>0.985722</td>\n",
              "      <td>[[280, 0, 0, 0, 0, 0], [0, 203, 1, 0, 0, 2], [...</td>\n",
              "    </tr>\n",
              "    <tr>\n",
              "      <th>6</th>\n",
              "      <td>poly</td>\n",
              "      <td>1.0</td>\n",
              "      <td>0.1</td>\n",
              "      <td>0.985724</td>\n",
              "      <td>0.985844</td>\n",
              "      <td>0.985724</td>\n",
              "      <td>0.985722</td>\n",
              "      <td>[[280, 0, 0, 0, 0, 0], [0, 203, 1, 0, 0, 2], [...</td>\n",
              "    </tr>\n",
              "    <tr>\n",
              "      <th>7</th>\n",
              "      <td>poly</td>\n",
              "      <td>1.0</td>\n",
              "      <td>1.0</td>\n",
              "      <td>0.985724</td>\n",
              "      <td>0.985844</td>\n",
              "      <td>0.985724</td>\n",
              "      <td>0.985722</td>\n",
              "      <td>[[280, 0, 0, 0, 0, 0], [0, 203, 1, 0, 0, 2], [...</td>\n",
              "    </tr>\n",
              "    <tr>\n",
              "      <th>8</th>\n",
              "      <td>poly</td>\n",
              "      <td>1.0</td>\n",
              "      <td>10.0</td>\n",
              "      <td>0.985724</td>\n",
              "      <td>0.985844</td>\n",
              "      <td>0.985724</td>\n",
              "      <td>0.985722</td>\n",
              "      <td>[[280, 0, 0, 0, 0, 0], [0, 203, 1, 0, 0, 2], [...</td>\n",
              "    </tr>\n",
              "    <tr>\n",
              "      <th>0</th>\n",
              "      <td>linear</td>\n",
              "      <td>0.1</td>\n",
              "      <td>NaN</td>\n",
              "      <td>0.984364</td>\n",
              "      <td>0.984379</td>\n",
              "      <td>0.984364</td>\n",
              "      <td>0.984363</td>\n",
              "      <td>[[280, 0, 0, 0, 0, 0], [0, 205, 1, 0, 0, 0], [...</td>\n",
              "    </tr>\n",
              "    <tr>\n",
              "      <th>1</th>\n",
              "      <td>linear</td>\n",
              "      <td>1.0</td>\n",
              "      <td>NaN</td>\n",
              "      <td>0.982325</td>\n",
              "      <td>0.982358</td>\n",
              "      <td>0.982325</td>\n",
              "      <td>0.982326</td>\n",
              "      <td>[[280, 0, 0, 0, 0, 0], [0, 205, 1, 0, 0, 0], [...</td>\n",
              "    </tr>\n",
              "    <tr>\n",
              "      <th>2</th>\n",
              "      <td>linear</td>\n",
              "      <td>10.0</td>\n",
              "      <td>NaN</td>\n",
              "      <td>0.976886</td>\n",
              "      <td>0.976920</td>\n",
              "      <td>0.976886</td>\n",
              "      <td>0.976888</td>\n",
              "      <td>[[280, 0, 0, 0, 0, 0], [0, 205, 1, 0, 0, 0], [...</td>\n",
              "    </tr>\n",
              "    <tr>\n",
              "      <th>18</th>\n",
              "      <td>rbf</td>\n",
              "      <td>10.0</td>\n",
              "      <td>0.1</td>\n",
              "      <td>0.196465</td>\n",
              "      <td>0.402193</td>\n",
              "      <td>0.196465</td>\n",
              "      <td>0.073171</td>\n",
              "      <td>[[280, 0, 0, 0, 0, 0], [206, 0, 0, 0, 0, 0], [...</td>\n",
              "    </tr>\n",
              "    <tr>\n",
              "      <th>15</th>\n",
              "      <td>rbf</td>\n",
              "      <td>1.0</td>\n",
              "      <td>0.1</td>\n",
              "      <td>0.193746</td>\n",
              "      <td>0.402093</td>\n",
              "      <td>0.193746</td>\n",
              "      <td>0.067766</td>\n",
              "      <td>[[280, 0, 0, 0, 0, 0], [206, 0, 0, 0, 0, 0], [...</td>\n",
              "    </tr>\n",
              "    <tr>\n",
              "      <th>12</th>\n",
              "      <td>rbf</td>\n",
              "      <td>0.1</td>\n",
              "      <td>0.1</td>\n",
              "      <td>0.190347</td>\n",
              "      <td>0.036232</td>\n",
              "      <td>0.190347</td>\n",
              "      <td>0.060876</td>\n",
              "      <td>[[280, 0, 0, 0, 0, 0], [206, 0, 0, 0, 0, 0], [...</td>\n",
              "    </tr>\n",
              "    <tr>\n",
              "      <th>13</th>\n",
              "      <td>rbf</td>\n",
              "      <td>0.1</td>\n",
              "      <td>1.0</td>\n",
              "      <td>0.190347</td>\n",
              "      <td>0.036232</td>\n",
              "      <td>0.190347</td>\n",
              "      <td>0.060876</td>\n",
              "      <td>[[280, 0, 0, 0, 0, 0], [206, 0, 0, 0, 0, 0], [...</td>\n",
              "    </tr>\n",
              "    <tr>\n",
              "      <th>14</th>\n",
              "      <td>rbf</td>\n",
              "      <td>0.1</td>\n",
              "      <td>10.0</td>\n",
              "      <td>0.190347</td>\n",
              "      <td>0.036232</td>\n",
              "      <td>0.190347</td>\n",
              "      <td>0.060876</td>\n",
              "      <td>[[280, 0, 0, 0, 0, 0], [206, 0, 0, 0, 0, 0], [...</td>\n",
              "    </tr>\n",
              "    <tr>\n",
              "      <th>16</th>\n",
              "      <td>rbf</td>\n",
              "      <td>1.0</td>\n",
              "      <td>1.0</td>\n",
              "      <td>0.190347</td>\n",
              "      <td>0.036232</td>\n",
              "      <td>0.190347</td>\n",
              "      <td>0.060876</td>\n",
              "      <td>[[280, 0, 0, 0, 0, 0], [206, 0, 0, 0, 0, 0], [...</td>\n",
              "    </tr>\n",
              "    <tr>\n",
              "      <th>17</th>\n",
              "      <td>rbf</td>\n",
              "      <td>1.0</td>\n",
              "      <td>10.0</td>\n",
              "      <td>0.190347</td>\n",
              "      <td>0.036232</td>\n",
              "      <td>0.190347</td>\n",
              "      <td>0.060876</td>\n",
              "      <td>[[280, 0, 0, 0, 0, 0], [206, 0, 0, 0, 0, 0], [...</td>\n",
              "    </tr>\n",
              "    <tr>\n",
              "      <th>19</th>\n",
              "      <td>rbf</td>\n",
              "      <td>10.0</td>\n",
              "      <td>1.0</td>\n",
              "      <td>0.190347</td>\n",
              "      <td>0.036232</td>\n",
              "      <td>0.190347</td>\n",
              "      <td>0.060876</td>\n",
              "      <td>[[280, 0, 0, 0, 0, 0], [206, 0, 0, 0, 0, 0], [...</td>\n",
              "    </tr>\n",
              "    <tr>\n",
              "      <th>20</th>\n",
              "      <td>rbf</td>\n",
              "      <td>10.0</td>\n",
              "      <td>10.0</td>\n",
              "      <td>0.190347</td>\n",
              "      <td>0.036232</td>\n",
              "      <td>0.190347</td>\n",
              "      <td>0.060876</td>\n",
              "      <td>[[280, 0, 0, 0, 0, 0], [206, 0, 0, 0, 0, 0], [...</td>\n",
              "    </tr>\n",
              "  </tbody>\n",
              "</table>\n",
              "</div>\n",
              "    <div class=\"colab-df-buttons\">\n",
              "\n",
              "  <div class=\"colab-df-container\">\n",
              "    <button class=\"colab-df-convert\" onclick=\"convertToInteractive('df-b5b44dbe-8a1f-44af-87ff-2a741ebb648b')\"\n",
              "            title=\"Convert this dataframe to an interactive table.\"\n",
              "            style=\"display:none;\">\n",
              "\n",
              "  <svg xmlns=\"http://www.w3.org/2000/svg\" height=\"24px\" viewBox=\"0 -960 960 960\">\n",
              "    <path d=\"M120-120v-720h720v720H120Zm60-500h600v-160H180v160Zm220 220h160v-160H400v160Zm0 220h160v-160H400v160ZM180-400h160v-160H180v160Zm440 0h160v-160H620v160ZM180-180h160v-160H180v160Zm440 0h160v-160H620v160Z\"/>\n",
              "  </svg>\n",
              "    </button>\n",
              "\n",
              "  <style>\n",
              "    .colab-df-container {\n",
              "      display:flex;\n",
              "      gap: 12px;\n",
              "    }\n",
              "\n",
              "    .colab-df-convert {\n",
              "      background-color: #E8F0FE;\n",
              "      border: none;\n",
              "      border-radius: 50%;\n",
              "      cursor: pointer;\n",
              "      display: none;\n",
              "      fill: #1967D2;\n",
              "      height: 32px;\n",
              "      padding: 0 0 0 0;\n",
              "      width: 32px;\n",
              "    }\n",
              "\n",
              "    .colab-df-convert:hover {\n",
              "      background-color: #E2EBFA;\n",
              "      box-shadow: 0px 1px 2px rgba(60, 64, 67, 0.3), 0px 1px 3px 1px rgba(60, 64, 67, 0.15);\n",
              "      fill: #174EA6;\n",
              "    }\n",
              "\n",
              "    .colab-df-buttons div {\n",
              "      margin-bottom: 4px;\n",
              "    }\n",
              "\n",
              "    [theme=dark] .colab-df-convert {\n",
              "      background-color: #3B4455;\n",
              "      fill: #D2E3FC;\n",
              "    }\n",
              "\n",
              "    [theme=dark] .colab-df-convert:hover {\n",
              "      background-color: #434B5C;\n",
              "      box-shadow: 0px 1px 3px 1px rgba(0, 0, 0, 0.15);\n",
              "      filter: drop-shadow(0px 1px 2px rgba(0, 0, 0, 0.3));\n",
              "      fill: #FFFFFF;\n",
              "    }\n",
              "  </style>\n",
              "\n",
              "    <script>\n",
              "      const buttonEl =\n",
              "        document.querySelector('#df-b5b44dbe-8a1f-44af-87ff-2a741ebb648b button.colab-df-convert');\n",
              "      buttonEl.style.display =\n",
              "        google.colab.kernel.accessAllowed ? 'block' : 'none';\n",
              "\n",
              "      async function convertToInteractive(key) {\n",
              "        const element = document.querySelector('#df-b5b44dbe-8a1f-44af-87ff-2a741ebb648b');\n",
              "        const dataTable =\n",
              "          await google.colab.kernel.invokeFunction('convertToInteractive',\n",
              "                                                    [key], {});\n",
              "        if (!dataTable) return;\n",
              "\n",
              "        const docLinkHtml = 'Like what you see? Visit the ' +\n",
              "          '<a target=\"_blank\" href=https://colab.research.google.com/notebooks/data_table.ipynb>data table notebook</a>'\n",
              "          + ' to learn more about interactive tables.';\n",
              "        element.innerHTML = '';\n",
              "        dataTable['output_type'] = 'display_data';\n",
              "        await google.colab.output.renderOutput(dataTable, element);\n",
              "        const docLink = document.createElement('div');\n",
              "        docLink.innerHTML = docLinkHtml;\n",
              "        element.appendChild(docLink);\n",
              "      }\n",
              "    </script>\n",
              "  </div>\n",
              "\n",
              "\n",
              "<div id=\"df-c4f0fe15-0658-40eb-8e6b-edec8c0fa4da\">\n",
              "  <button class=\"colab-df-quickchart\" onclick=\"quickchart('df-c4f0fe15-0658-40eb-8e6b-edec8c0fa4da')\"\n",
              "            title=\"Suggest charts\"\n",
              "            style=\"display:none;\">\n",
              "\n",
              "<svg xmlns=\"http://www.w3.org/2000/svg\" height=\"24px\"viewBox=\"0 0 24 24\"\n",
              "     width=\"24px\">\n",
              "    <g>\n",
              "        <path d=\"M19 3H5c-1.1 0-2 .9-2 2v14c0 1.1.9 2 2 2h14c1.1 0 2-.9 2-2V5c0-1.1-.9-2-2-2zM9 17H7v-7h2v7zm4 0h-2V7h2v10zm4 0h-2v-4h2v4z\"/>\n",
              "    </g>\n",
              "</svg>\n",
              "  </button>\n",
              "\n",
              "<style>\n",
              "  .colab-df-quickchart {\n",
              "      --bg-color: #E8F0FE;\n",
              "      --fill-color: #1967D2;\n",
              "      --hover-bg-color: #E2EBFA;\n",
              "      --hover-fill-color: #174EA6;\n",
              "      --disabled-fill-color: #AAA;\n",
              "      --disabled-bg-color: #DDD;\n",
              "  }\n",
              "\n",
              "  [theme=dark] .colab-df-quickchart {\n",
              "      --bg-color: #3B4455;\n",
              "      --fill-color: #D2E3FC;\n",
              "      --hover-bg-color: #434B5C;\n",
              "      --hover-fill-color: #FFFFFF;\n",
              "      --disabled-bg-color: #3B4455;\n",
              "      --disabled-fill-color: #666;\n",
              "  }\n",
              "\n",
              "  .colab-df-quickchart {\n",
              "    background-color: var(--bg-color);\n",
              "    border: none;\n",
              "    border-radius: 50%;\n",
              "    cursor: pointer;\n",
              "    display: none;\n",
              "    fill: var(--fill-color);\n",
              "    height: 32px;\n",
              "    padding: 0;\n",
              "    width: 32px;\n",
              "  }\n",
              "\n",
              "  .colab-df-quickchart:hover {\n",
              "    background-color: var(--hover-bg-color);\n",
              "    box-shadow: 0 1px 2px rgba(60, 64, 67, 0.3), 0 1px 3px 1px rgba(60, 64, 67, 0.15);\n",
              "    fill: var(--button-hover-fill-color);\n",
              "  }\n",
              "\n",
              "  .colab-df-quickchart-complete:disabled,\n",
              "  .colab-df-quickchart-complete:disabled:hover {\n",
              "    background-color: var(--disabled-bg-color);\n",
              "    fill: var(--disabled-fill-color);\n",
              "    box-shadow: none;\n",
              "  }\n",
              "\n",
              "  .colab-df-spinner {\n",
              "    border: 2px solid var(--fill-color);\n",
              "    border-color: transparent;\n",
              "    border-bottom-color: var(--fill-color);\n",
              "    animation:\n",
              "      spin 1s steps(1) infinite;\n",
              "  }\n",
              "\n",
              "  @keyframes spin {\n",
              "    0% {\n",
              "      border-color: transparent;\n",
              "      border-bottom-color: var(--fill-color);\n",
              "      border-left-color: var(--fill-color);\n",
              "    }\n",
              "    20% {\n",
              "      border-color: transparent;\n",
              "      border-left-color: var(--fill-color);\n",
              "      border-top-color: var(--fill-color);\n",
              "    }\n",
              "    30% {\n",
              "      border-color: transparent;\n",
              "      border-left-color: var(--fill-color);\n",
              "      border-top-color: var(--fill-color);\n",
              "      border-right-color: var(--fill-color);\n",
              "    }\n",
              "    40% {\n",
              "      border-color: transparent;\n",
              "      border-right-color: var(--fill-color);\n",
              "      border-top-color: var(--fill-color);\n",
              "    }\n",
              "    60% {\n",
              "      border-color: transparent;\n",
              "      border-right-color: var(--fill-color);\n",
              "    }\n",
              "    80% {\n",
              "      border-color: transparent;\n",
              "      border-right-color: var(--fill-color);\n",
              "      border-bottom-color: var(--fill-color);\n",
              "    }\n",
              "    90% {\n",
              "      border-color: transparent;\n",
              "      border-bottom-color: var(--fill-color);\n",
              "    }\n",
              "  }\n",
              "</style>\n",
              "\n",
              "  <script>\n",
              "    async function quickchart(key) {\n",
              "      const quickchartButtonEl =\n",
              "        document.querySelector('#' + key + ' button');\n",
              "      quickchartButtonEl.disabled = true;  // To prevent multiple clicks.\n",
              "      quickchartButtonEl.classList.add('colab-df-spinner');\n",
              "      try {\n",
              "        const charts = await google.colab.kernel.invokeFunction(\n",
              "            'suggestCharts', [key], {});\n",
              "      } catch (error) {\n",
              "        console.error('Error during call to suggestCharts:', error);\n",
              "      }\n",
              "      quickchartButtonEl.classList.remove('colab-df-spinner');\n",
              "      quickchartButtonEl.classList.add('colab-df-quickchart-complete');\n",
              "    }\n",
              "    (() => {\n",
              "      let quickchartButtonEl =\n",
              "        document.querySelector('#df-c4f0fe15-0658-40eb-8e6b-edec8c0fa4da button');\n",
              "      quickchartButtonEl.style.display =\n",
              "        google.colab.kernel.accessAllowed ? 'block' : 'none';\n",
              "    })();\n",
              "  </script>\n",
              "</div>\n",
              "\n",
              "    </div>\n",
              "  </div>\n"
            ],
            "application/vnd.google.colaboratory.intrinsic+json": {
              "type": "dataframe",
              "summary": "{\n  \"name\": \"svm_results_df\",\n  \"rows\": 21,\n  \"fields\": [\n    {\n      \"column\": \"kernel\",\n      \"properties\": {\n        \"dtype\": \"category\",\n        \"num_unique_values\": 3,\n        \"samples\": [\n          \"poly\",\n          \"linear\",\n          \"rbf\"\n        ],\n        \"semantic_type\": \"\",\n        \"description\": \"\"\n      }\n    },\n    {\n      \"column\": \"C\",\n      \"properties\": {\n        \"dtype\": \"number\",\n        \"std\": 4.58028383399981,\n        \"min\": 0.1,\n        \"max\": 10.0,\n        \"num_unique_values\": 3,\n        \"samples\": [\n          10.0,\n          0.1,\n          1.0\n        ],\n        \"semantic_type\": \"\",\n        \"description\": \"\"\n      }\n    },\n    {\n      \"column\": \"gamma\",\n      \"properties\": {\n        \"dtype\": \"number\",\n        \"std\": 4.599488462606147,\n        \"min\": 0.1,\n        \"max\": 10.0,\n        \"num_unique_values\": 3,\n        \"samples\": [\n          1.0,\n          0.1,\n          10.0\n        ],\n        \"semantic_type\": \"\",\n        \"description\": \"\"\n      }\n    },\n    {\n      \"column\": \"accuracy\",\n      \"properties\": {\n        \"dtype\": \"number\",\n        \"std\": 0.4022262666941429,\n        \"min\": 0.1903467029231815,\n        \"max\": 0.9857239972807614,\n        \"num_unique_values\": 7,\n        \"samples\": [\n          0.9857239972807614,\n          0.9843643779741672,\n          0.1937457511896669\n        ],\n        \"semantic_type\": \"\",\n        \"description\": \"\"\n      }\n    },\n    {\n      \"column\": \"precision\",\n      \"properties\": {\n        \"dtype\": \"number\",\n        \"std\": 0.45141165438558245,\n        \"min\": 0.036231867313725914,\n        \"max\": 0.9858437376890804,\n        \"num_unique_values\": 7,\n        \"samples\": [\n          0.9858437376890804,\n          0.9843792337210766,\n          0.4020930346869861\n        ],\n        \"semantic_type\": \"\",\n        \"description\": \"\"\n      }\n    },\n    {\n      \"column\": \"recall\",\n      \"properties\": {\n        \"dtype\": \"number\",\n        \"std\": 0.4022262666941429,\n        \"min\": 0.1903467029231815,\n        \"max\": 0.9857239972807614,\n        \"num_unique_values\": 7,\n        \"samples\": [\n          0.9857239972807614,\n          0.9843643779741672,\n          0.1937457511896669\n        ],\n        \"semantic_type\": \"\",\n        \"description\": \"\"\n      }\n    },\n    {\n      \"column\": \"f1_score\",\n      \"properties\": {\n        \"dtype\": \"number\",\n        \"std\": 0.467339820137243,\n        \"min\": 0.060876158559098593,\n        \"max\": 0.9857221510660216,\n        \"num_unique_values\": 7,\n        \"samples\": [\n          0.9857221510660216,\n          0.9843625090037021,\n          0.06776572325607691\n        ],\n        \"semantic_type\": \"\",\n        \"description\": \"\"\n      }\n    },\n    {\n      \"column\": \"confusion_matrix\",\n      \"properties\": {\n        \"dtype\": \"object\",\n        \"semantic_type\": \"\",\n        \"description\": \"\"\n      }\n    }\n  ]\n}"
            }
          },
          "metadata": {},
          "execution_count": 104
        }
      ]
    },
    {
      "cell_type": "markdown",
      "source": [
        "Crear el modelo con los mejores parámetros"
      ],
      "metadata": {
        "id": "1aa2Yhfcgbzt"
      }
    },
    {
      "cell_type": "code",
      "source": [
        "# Crear un clasificador SVM\n",
        "#svm_classifier = SVC(kernel='linear', random_state=42)\n",
        "svm_classifier = SVC(kernel='poly', C=10, gamma=0.1 , random_state=42)\n"
      ],
      "metadata": {
        "id": "yNmRqYjU0vg2"
      },
      "execution_count": 105,
      "outputs": []
    },
    {
      "cell_type": "code",
      "source": [
        "# Entrenar el clasificador SVM\n",
        "svm_classifier.fit(X_train_scaled, y_train)"
      ],
      "metadata": {
        "colab": {
          "base_uri": "https://localhost:8080/",
          "height": 74
        },
        "id": "k9cXCV500wmp",
        "outputId": "d0082e96-1fff-48c7-e411-c33df19308c7"
      },
      "execution_count": 106,
      "outputs": [
        {
          "output_type": "execute_result",
          "data": {
            "text/plain": [
              "SVC(C=10, gamma=0.1, kernel='poly', random_state=42)"
            ],
            "text/html": [
              "<style>#sk-container-id-5 {color: black;background-color: white;}#sk-container-id-5 pre{padding: 0;}#sk-container-id-5 div.sk-toggleable {background-color: white;}#sk-container-id-5 label.sk-toggleable__label {cursor: pointer;display: block;width: 100%;margin-bottom: 0;padding: 0.3em;box-sizing: border-box;text-align: center;}#sk-container-id-5 label.sk-toggleable__label-arrow:before {content: \"▸\";float: left;margin-right: 0.25em;color: #696969;}#sk-container-id-5 label.sk-toggleable__label-arrow:hover:before {color: black;}#sk-container-id-5 div.sk-estimator:hover label.sk-toggleable__label-arrow:before {color: black;}#sk-container-id-5 div.sk-toggleable__content {max-height: 0;max-width: 0;overflow: hidden;text-align: left;background-color: #f0f8ff;}#sk-container-id-5 div.sk-toggleable__content pre {margin: 0.2em;color: black;border-radius: 0.25em;background-color: #f0f8ff;}#sk-container-id-5 input.sk-toggleable__control:checked~div.sk-toggleable__content {max-height: 200px;max-width: 100%;overflow: auto;}#sk-container-id-5 input.sk-toggleable__control:checked~label.sk-toggleable__label-arrow:before {content: \"▾\";}#sk-container-id-5 div.sk-estimator input.sk-toggleable__control:checked~label.sk-toggleable__label {background-color: #d4ebff;}#sk-container-id-5 div.sk-label input.sk-toggleable__control:checked~label.sk-toggleable__label {background-color: #d4ebff;}#sk-container-id-5 input.sk-hidden--visually {border: 0;clip: rect(1px 1px 1px 1px);clip: rect(1px, 1px, 1px, 1px);height: 1px;margin: -1px;overflow: hidden;padding: 0;position: absolute;width: 1px;}#sk-container-id-5 div.sk-estimator {font-family: monospace;background-color: #f0f8ff;border: 1px dotted black;border-radius: 0.25em;box-sizing: border-box;margin-bottom: 0.5em;}#sk-container-id-5 div.sk-estimator:hover {background-color: #d4ebff;}#sk-container-id-5 div.sk-parallel-item::after {content: \"\";width: 100%;border-bottom: 1px solid gray;flex-grow: 1;}#sk-container-id-5 div.sk-label:hover label.sk-toggleable__label {background-color: #d4ebff;}#sk-container-id-5 div.sk-serial::before {content: \"\";position: absolute;border-left: 1px solid gray;box-sizing: border-box;top: 0;bottom: 0;left: 50%;z-index: 0;}#sk-container-id-5 div.sk-serial {display: flex;flex-direction: column;align-items: center;background-color: white;padding-right: 0.2em;padding-left: 0.2em;position: relative;}#sk-container-id-5 div.sk-item {position: relative;z-index: 1;}#sk-container-id-5 div.sk-parallel {display: flex;align-items: stretch;justify-content: center;background-color: white;position: relative;}#sk-container-id-5 div.sk-item::before, #sk-container-id-5 div.sk-parallel-item::before {content: \"\";position: absolute;border-left: 1px solid gray;box-sizing: border-box;top: 0;bottom: 0;left: 50%;z-index: -1;}#sk-container-id-5 div.sk-parallel-item {display: flex;flex-direction: column;z-index: 1;position: relative;background-color: white;}#sk-container-id-5 div.sk-parallel-item:first-child::after {align-self: flex-end;width: 50%;}#sk-container-id-5 div.sk-parallel-item:last-child::after {align-self: flex-start;width: 50%;}#sk-container-id-5 div.sk-parallel-item:only-child::after {width: 0;}#sk-container-id-5 div.sk-dashed-wrapped {border: 1px dashed gray;margin: 0 0.4em 0.5em 0.4em;box-sizing: border-box;padding-bottom: 0.4em;background-color: white;}#sk-container-id-5 div.sk-label label {font-family: monospace;font-weight: bold;display: inline-block;line-height: 1.2em;}#sk-container-id-5 div.sk-label-container {text-align: center;}#sk-container-id-5 div.sk-container {/* jupyter's `normalize.less` sets `[hidden] { display: none; }` but bootstrap.min.css set `[hidden] { display: none !important; }` so we also need the `!important` here to be able to override the default hidden behavior on the sphinx rendered scikit-learn.org. See: https://github.com/scikit-learn/scikit-learn/issues/21755 */display: inline-block !important;position: relative;}#sk-container-id-5 div.sk-text-repr-fallback {display: none;}</style><div id=\"sk-container-id-5\" class=\"sk-top-container\"><div class=\"sk-text-repr-fallback\"><pre>SVC(C=10, gamma=0.1, kernel=&#x27;poly&#x27;, random_state=42)</pre><b>In a Jupyter environment, please rerun this cell to show the HTML representation or trust the notebook. <br />On GitHub, the HTML representation is unable to render, please try loading this page with nbviewer.org.</b></div><div class=\"sk-container\" hidden><div class=\"sk-item\"><div class=\"sk-estimator sk-toggleable\"><input class=\"sk-toggleable__control sk-hidden--visually\" id=\"sk-estimator-id-5\" type=\"checkbox\" checked><label for=\"sk-estimator-id-5\" class=\"sk-toggleable__label sk-toggleable__label-arrow\">SVC</label><div class=\"sk-toggleable__content\"><pre>SVC(C=10, gamma=0.1, kernel=&#x27;poly&#x27;, random_state=42)</pre></div></div></div></div></div>"
            ]
          },
          "metadata": {},
          "execution_count": 106
        }
      ]
    },
    {
      "cell_type": "code",
      "source": [
        "# Predecir con el conjunto de prueba\n",
        "y_pred = svm_classifier.predict(X_test_scaled)"
      ],
      "metadata": {
        "id": "T2FyWR8X0yq9"
      },
      "execution_count": 107,
      "outputs": []
    },
    {
      "cell_type": "code",
      "source": [
        "# Evaluar el rendimiento del modelo\n",
        "accuracy = accuracy_score(y_test, y_pred)\n",
        "print(f'Precisión del modelo SVM: {accuracy:.2f}')"
      ],
      "metadata": {
        "colab": {
          "base_uri": "https://localhost:8080/"
        },
        "id": "XTC4GkDM01Bp",
        "outputId": "903046cb-1519-449b-f4b8-44ee38a9d3d9"
      },
      "execution_count": 124,
      "outputs": [
        {
          "output_type": "stream",
          "name": "stdout",
          "text": [
            "Precisión del modelo SVM: 0.99\n"
          ]
        }
      ]
    },
    {
      "cell_type": "code",
      "source": [
        "# Obtener la matriz de confusión\n",
        "conf_matrix = confusion_matrix(y_test, y_pred)"
      ],
      "metadata": {
        "id": "Y2Y0Fohl04Cr"
      },
      "execution_count": 109,
      "outputs": []
    },
    {
      "cell_type": "code",
      "source": [
        "# Imprimir un reporte de clasificación detallado\n",
        "print(\"\\nReporte de Clasificación:\")\n",
        "print(classification_report(y_test, y_pred, target_names=label_encoder.classes_))"
      ],
      "metadata": {
        "colab": {
          "base_uri": "https://localhost:8080/"
        },
        "id": "DFMPaWQ207B0",
        "outputId": "91ba8c41-f5e0-4663-98d9-91c678ce1c5a"
      },
      "execution_count": 171,
      "outputs": [
        {
          "output_type": "stream",
          "name": "stdout",
          "text": [
            "\n",
            "Reporte de Clasificación:\n",
            "                    precision    recall  f1-score   support\n",
            "\n",
            "          Acostado       0.97      0.91      0.94       280\n",
            " Bajando escaleras       0.58      0.75      0.66       206\n",
            "           Caminar       0.44      0.60      0.51       247\n",
            "            De pie       0.00      0.00      0.00       276\n",
            "           Sentado       0.47      0.92      0.62       262\n",
            "Subiendo escaleras       0.00      0.00      0.00       200\n",
            "\n",
            "          accuracy                           0.54      1471\n",
            "         macro avg       0.41      0.53      0.45      1471\n",
            "      weighted avg       0.42      0.54      0.47      1471\n",
            "\n"
          ]
        }
      ]
    },
    {
      "cell_type": "code",
      "source": [
        "# Graficar la matriz de confusión\n",
        "plt.figure(figsize=(10, 8))\n",
        "sns.heatmap(conf_matrix, annot=True, fmt=\"d\", cmap=\"Blues\", xticklabels=label_encoder.classes_, yticklabels=label_encoder.classes_)\n",
        "plt.xlabel('Prediccón')\n",
        "plt.ylabel('Verdadero')\n",
        "plt.show()"
      ],
      "metadata": {
        "colab": {
          "base_uri": "https://localhost:8080/",
          "height": 696
        },
        "id": "wpVBQB2seSE5",
        "outputId": "c87c4c24-8654-4508-e7d3-ab991f98bbf6"
      },
      "execution_count": 111,
      "outputs": [
        {
          "output_type": "display_data",
          "data": {
            "text/plain": [
              "<Figure size 1000x800 with 2 Axes>"
            ],
            "image/png": "[encoded data removed]"
          },
          "metadata": {}
        }
      ]
    },
    {
      "cell_type": "markdown",
      "source": [
        "Aprendizaje No Supervisado (MMG)"
      ],
      "metadata": {
        "id": "1zYTa8YChmqA"
      }
    },
    {
      "cell_type": "markdown",
      "source": [
        "Cambiando algunos parámetros"
      ],
      "metadata": {
        "id": "P7n6iBQNv63g"
      }
    },
    {
      "cell_type": "code",
      "source": [
        "# Definir una lista de parámetros para probar\n",
        "n_components_list = [ 5, 6, 7]\n",
        "covariances = ['full', 'tied', 'diag', 'spherical']"
      ],
      "metadata": {
        "id": "7mecSMfGv_Cy"
      },
      "execution_count": 49,
      "outputs": []
    },
    {
      "cell_type": "code",
      "source": [
        "# Función para evaluar el modelo GMM\n",
        "def evaluate_gmm(n_components, covariance_type):\n",
        "    model = GaussianMixture(n_components=n_components, covariance_type=covariance_type, random_state=42)\n",
        "    model.fit(X_train_scaled)\n",
        "\n",
        "    # Predecir etiquetas para los datos de prueba\n",
        "    y_pred = model.predict(X_test_scaled)\n",
        "\n",
        "    # Calcular Silhouette Score\n",
        "    silhouette_avg = silhouette_score(X_test_scaled, y_pred)\n",
        "\n",
        "    # Calcular la matriz de confusión\n",
        "    conf_matrix = confusion_matrix(y_test, y_pred)\n",
        "\n",
        "    # Calcular accuracy\n",
        "    accuracy = accuracy_score(y_test, y_pred)\n",
        "\n",
        "    # Calcular Classification report\n",
        "    classification = classification_report(y_test, y_pred)\n",
        "\n",
        "    return {\n",
        "        'n_components': n_components,\n",
        "        'covariance_type': covariance_type,\n",
        "        'silhouette_score': silhouette_avg,\n",
        "        'confusion_matrix': conf_matrix,\n",
        "        'accuracy': accuracy,\n",
        "        'Classification_report': classification\n",
        "    }\n"
      ],
      "metadata": {
        "id": "0njjGfruwj-W"
      },
      "execution_count": 53,
      "outputs": []
    },
    {
      "cell_type": "code",
      "source": [
        "# Evaluar GMM con diferentes parámetros\n",
        "gmm_results = []\n",
        "for n_components in n_components_list:\n",
        "    for covariance in covariances:\n",
        "        results = evaluate_gmm(n_components, covariance)\n",
        "        gmm_results.append(results)"
      ],
      "metadata": {
        "colab": {
          "base_uri": "https://localhost:8080/"
        },
        "collapsed": true,
        "id": "pTPoC_mbwmoH",
        "outputId": "449a41e9-cfdd-4a68-9477-4605d5877fc6"
      },
      "execution_count": 115,
      "outputs": [
        {
          "output_type": "stream",
          "name": "stderr",
          "text": [
            "/usr/local/lib/python3.10/dist-packages/sklearn/metrics/_classification.py:1344: UndefinedMetricWarning: Precision and F-score are ill-defined and being set to 0.0 in labels with no predicted samples. Use `zero_division` parameter to control this behavior.\n",
            "  _warn_prf(average, modifier, msg_start, len(result))\n",
            "/usr/local/lib/python3.10/dist-packages/sklearn/metrics/_classification.py:1344: UndefinedMetricWarning: Precision and F-score are ill-defined and being set to 0.0 in labels with no predicted samples. Use `zero_division` parameter to control this behavior.\n",
            "  _warn_prf(average, modifier, msg_start, len(result))\n",
            "/usr/local/lib/python3.10/dist-packages/sklearn/metrics/_classification.py:1344: UndefinedMetricWarning: Precision and F-score are ill-defined and being set to 0.0 in labels with no predicted samples. Use `zero_division` parameter to control this behavior.\n",
            "  _warn_prf(average, modifier, msg_start, len(result))\n",
            "/usr/local/lib/python3.10/dist-packages/sklearn/metrics/_classification.py:1344: UndefinedMetricWarning: Precision and F-score are ill-defined and being set to 0.0 in labels with no predicted samples. Use `zero_division` parameter to control this behavior.\n",
            "  _warn_prf(average, modifier, msg_start, len(result))\n",
            "/usr/local/lib/python3.10/dist-packages/sklearn/metrics/_classification.py:1344: UndefinedMetricWarning: Precision and F-score are ill-defined and being set to 0.0 in labels with no predicted samples. Use `zero_division` parameter to control this behavior.\n",
            "  _warn_prf(average, modifier, msg_start, len(result))\n",
            "/usr/local/lib/python3.10/dist-packages/sklearn/metrics/_classification.py:1344: UndefinedMetricWarning: Precision and F-score are ill-defined and being set to 0.0 in labels with no predicted samples. Use `zero_division` parameter to control this behavior.\n",
            "  _warn_prf(average, modifier, msg_start, len(result))\n",
            "/usr/local/lib/python3.10/dist-packages/sklearn/metrics/_classification.py:1344: UndefinedMetricWarning: Precision and F-score are ill-defined and being set to 0.0 in labels with no predicted samples. Use `zero_division` parameter to control this behavior.\n",
            "  _warn_prf(average, modifier, msg_start, len(result))\n",
            "/usr/local/lib/python3.10/dist-packages/sklearn/metrics/_classification.py:1344: UndefinedMetricWarning: Precision and F-score are ill-defined and being set to 0.0 in labels with no predicted samples. Use `zero_division` parameter to control this behavior.\n",
            "  _warn_prf(average, modifier, msg_start, len(result))\n",
            "/usr/local/lib/python3.10/dist-packages/sklearn/metrics/_classification.py:1344: UndefinedMetricWarning: Precision and F-score are ill-defined and being set to 0.0 in labels with no predicted samples. Use `zero_division` parameter to control this behavior.\n",
            "  _warn_prf(average, modifier, msg_start, len(result))\n",
            "/usr/local/lib/python3.10/dist-packages/sklearn/metrics/_classification.py:1344: UndefinedMetricWarning: Precision and F-score are ill-defined and being set to 0.0 in labels with no predicted samples. Use `zero_division` parameter to control this behavior.\n",
            "  _warn_prf(average, modifier, msg_start, len(result))\n",
            "/usr/local/lib/python3.10/dist-packages/sklearn/metrics/_classification.py:1344: UndefinedMetricWarning: Precision and F-score are ill-defined and being set to 0.0 in labels with no predicted samples. Use `zero_division` parameter to control this behavior.\n",
            "  _warn_prf(average, modifier, msg_start, len(result))\n",
            "/usr/local/lib/python3.10/dist-packages/sklearn/metrics/_classification.py:1344: UndefinedMetricWarning: Precision and F-score are ill-defined and being set to 0.0 in labels with no predicted samples. Use `zero_division` parameter to control this behavior.\n",
            "  _warn_prf(average, modifier, msg_start, len(result))\n",
            "/usr/local/lib/python3.10/dist-packages/sklearn/metrics/_classification.py:1344: UndefinedMetricWarning: Precision and F-score are ill-defined and being set to 0.0 in labels with no predicted samples. Use `zero_division` parameter to control this behavior.\n",
            "  _warn_prf(average, modifier, msg_start, len(result))\n",
            "/usr/local/lib/python3.10/dist-packages/sklearn/metrics/_classification.py:1344: UndefinedMetricWarning: Precision and F-score are ill-defined and being set to 0.0 in labels with no predicted samples. Use `zero_division` parameter to control this behavior.\n",
            "  _warn_prf(average, modifier, msg_start, len(result))\n",
            "/usr/local/lib/python3.10/dist-packages/sklearn/metrics/_classification.py:1344: UndefinedMetricWarning: Precision and F-score are ill-defined and being set to 0.0 in labels with no predicted samples. Use `zero_division` parameter to control this behavior.\n",
            "  _warn_prf(average, modifier, msg_start, len(result))\n",
            "/usr/local/lib/python3.10/dist-packages/sklearn/metrics/_classification.py:1344: UndefinedMetricWarning: Precision and F-score are ill-defined and being set to 0.0 in labels with no predicted samples. Use `zero_division` parameter to control this behavior.\n",
            "  _warn_prf(average, modifier, msg_start, len(result))\n",
            "/usr/local/lib/python3.10/dist-packages/sklearn/metrics/_classification.py:1344: UndefinedMetricWarning: Recall and F-score are ill-defined and being set to 0.0 in labels with no true samples. Use `zero_division` parameter to control this behavior.\n",
            "  _warn_prf(average, modifier, msg_start, len(result))\n",
            "/usr/local/lib/python3.10/dist-packages/sklearn/metrics/_classification.py:1344: UndefinedMetricWarning: Precision and F-score are ill-defined and being set to 0.0 in labels with no predicted samples. Use `zero_division` parameter to control this behavior.\n",
            "  _warn_prf(average, modifier, msg_start, len(result))\n",
            "/usr/local/lib/python3.10/dist-packages/sklearn/metrics/_classification.py:1344: UndefinedMetricWarning: Recall and F-score are ill-defined and being set to 0.0 in labels with no true samples. Use `zero_division` parameter to control this behavior.\n",
            "  _warn_prf(average, modifier, msg_start, len(result))\n",
            "/usr/local/lib/python3.10/dist-packages/sklearn/metrics/_classification.py:1344: UndefinedMetricWarning: Precision and F-score are ill-defined and being set to 0.0 in labels with no predicted samples. Use `zero_division` parameter to control this behavior.\n",
            "  _warn_prf(average, modifier, msg_start, len(result))\n",
            "/usr/local/lib/python3.10/dist-packages/sklearn/metrics/_classification.py:1344: UndefinedMetricWarning: Recall and F-score are ill-defined and being set to 0.0 in labels with no true samples. Use `zero_division` parameter to control this behavior.\n",
            "  _warn_prf(average, modifier, msg_start, len(result))\n",
            "/usr/local/lib/python3.10/dist-packages/sklearn/metrics/_classification.py:1344: UndefinedMetricWarning: Recall and F-score are ill-defined and being set to 0.0 in labels with no true samples. Use `zero_division` parameter to control this behavior.\n",
            "  _warn_prf(average, modifier, msg_start, len(result))\n",
            "/usr/local/lib/python3.10/dist-packages/sklearn/metrics/_classification.py:1344: UndefinedMetricWarning: Recall and F-score are ill-defined and being set to 0.0 in labels with no true samples. Use `zero_division` parameter to control this behavior.\n",
            "  _warn_prf(average, modifier, msg_start, len(result))\n",
            "/usr/local/lib/python3.10/dist-packages/sklearn/metrics/_classification.py:1344: UndefinedMetricWarning: Recall and F-score are ill-defined and being set to 0.0 in labels with no true samples. Use `zero_division` parameter to control this behavior.\n",
            "  _warn_prf(average, modifier, msg_start, len(result))\n",
            "/usr/local/lib/python3.10/dist-packages/sklearn/metrics/_classification.py:1344: UndefinedMetricWarning: Recall and F-score are ill-defined and being set to 0.0 in labels with no true samples. Use `zero_division` parameter to control this behavior.\n",
            "  _warn_prf(average, modifier, msg_start, len(result))\n",
            "/usr/local/lib/python3.10/dist-packages/sklearn/metrics/_classification.py:1344: UndefinedMetricWarning: Recall and F-score are ill-defined and being set to 0.0 in labels with no true samples. Use `zero_division` parameter to control this behavior.\n",
            "  _warn_prf(average, modifier, msg_start, len(result))\n",
            "/usr/local/lib/python3.10/dist-packages/sklearn/metrics/_classification.py:1344: UndefinedMetricWarning: Recall and F-score are ill-defined and being set to 0.0 in labels with no true samples. Use `zero_division` parameter to control this behavior.\n",
            "  _warn_prf(average, modifier, msg_start, len(result))\n",
            "/usr/local/lib/python3.10/dist-packages/sklearn/metrics/_classification.py:1344: UndefinedMetricWarning: Recall and F-score are ill-defined and being set to 0.0 in labels with no true samples. Use `zero_division` parameter to control this behavior.\n",
            "  _warn_prf(average, modifier, msg_start, len(result))\n",
            "/usr/local/lib/python3.10/dist-packages/sklearn/metrics/_classification.py:1344: UndefinedMetricWarning: Recall and F-score are ill-defined and being set to 0.0 in labels with no true samples. Use `zero_division` parameter to control this behavior.\n",
            "  _warn_prf(average, modifier, msg_start, len(result))\n",
            "/usr/local/lib/python3.10/dist-packages/sklearn/metrics/_classification.py:1344: UndefinedMetricWarning: Recall and F-score are ill-defined and being set to 0.0 in labels with no true samples. Use `zero_division` parameter to control this behavior.\n",
            "  _warn_prf(average, modifier, msg_start, len(result))\n"
          ]
        }
      ]
    },
    {
      "cell_type": "code",
      "source": [
        "# Mostrar resultados\n",
        "\"\"\"\"\n",
        "for result in gmm_results:\n",
        "    print(f\"GMM Components: {result['n_components']}, Covariance: {result['covariance_type']}\")\n",
        "    print(\"Silhouette Score:\", result['silhouette_score'])\n",
        "    print(\"Confusion Matrix:\\n\", result['confusion_matrix'])\n",
        "    print(\"Accuracy:\", result['accuracy'])\n",
        "    print(\"Classification Report:\", result['Classification_report'])\n",
        "    print(\"-\" * 50)\n",
        "\"\"\""
      ],
      "metadata": {
        "colab": {
          "base_uri": "https://localhost:8080/",
          "height": 86
        },
        "id": "_T6pRhTI2scL",
        "outputId": "9e71f5e0-45f3-43d4-d36c-19a851f80902"
      },
      "execution_count": 114,
      "outputs": [
        {
          "output_type": "execute_result",
          "data": {
            "text/plain": [
              "'\"\\nfor result in gmm_results:\\n    print(f\"GMM Components: {result[\\'n_components\\']}, Covariance: {result[\\'covariance_type\\']}\")\\n    print(\"Silhouette Score:\", result[\\'silhouette_score\\'])\\n    print(\"Confusion Matrix:\\n\", result[\\'confusion_matrix\\'])\\n    print(\"Accuracy:\", result[\\'accuracy\\'])\\n    print(\"Classification Report:\", result[\\'Classification_report\\'])\\n    print(\"-\" * 50)\\n'"
            ],
            "application/vnd.google.colaboratory.intrinsic+json": {
              "type": "string"
            }
          },
          "metadata": {},
          "execution_count": 114
        }
      ]
    },
    {
      "cell_type": "code",
      "source": [
        "gmm_results_df = pd.DataFrame(gmm_results)\n",
        "gmm_results_df.sort_values(by = 'accuracy', ascending = False)"
      ],
      "metadata": {
        "colab": {
          "base_uri": "https://localhost:8080/",
          "height": 747
        },
        "id": "letRbsrR8uUG",
        "outputId": "35d5222a-b6fa-43ff-8643-5daef2b4ce0a"
      },
      "execution_count": 93,
      "outputs": [
        {
          "output_type": "execute_result",
          "data": {
            "text/plain": [
              "    n_components covariance_type  silhouette_score  \\\n",
              "1              5            tied          0.108140   \n",
              "5              6            tied          0.110706   \n",
              "9              7            tied          0.084317   \n",
              "0              5            full          0.111841   \n",
              "4              6            full          0.103356   \n",
              "8              7            full          0.065142   \n",
              "11             7       spherical          0.062051   \n",
              "7              6       spherical          0.088571   \n",
              "3              5       spherical          0.108123   \n",
              "10             7            diag          0.044810   \n",
              "6              6            diag          0.055868   \n",
              "2              5            diag          0.101837   \n",
              "\n",
              "                                     confusion_matrix  accuracy  \\\n",
              "1   [[271, 0, 2, 0, 7, 0], [0, 155, 13, 38, 0, 0],...  0.544528   \n",
              "5   [[255, 0, 0, 0, 5, 20], [0, 154, 15, 37, 0, 0]...  0.542488   \n",
              "9   [[255, 0, 0, 0, 5, 20, 0], [0, 108, 59, 26, 0,...  0.518015   \n",
              "0   [[254, 0, 14, 0, 12, 0], [0, 175, 31, 0, 0, 0]...  0.517335   \n",
              "4   [[212, 0, 3, 0, 4, 61], [0, 170, 36, 0, 0, 0],...  0.473827   \n",
              "8   [[212, 0, 0, 0, 4, 62, 2], [0, 134, 53, 0, 0, ...  0.464310   \n",
              "11  [[213, 0, 0, 5, 1, 61, 0], [0, 116, 25, 39, 0,...  0.426920   \n",
              "7   [[213, 0, 0, 5, 1, 61], [0, 119, 40, 47, 0, 0]...  0.417403   \n",
              "3   [[126, 0, 0, 5, 149, 0], [0, 118, 40, 48, 0, 0...  0.353501   \n",
              "10  [[154, 0, 0, 0, 75, 46, 5], [0, 97, 37, 61, 0,...  0.307274   \n",
              "6   [[154, 0, 3, 0, 75, 48], [0, 97, 20, 89, 0, 0]...  0.260367   \n",
              "2   [[74, 3, 48, 0, 155, 0], [0, 73, 0, 133, 0, 0]...  0.203263   \n",
              "\n",
              "                                Classification_report  \n",
              "1                 precision    recall  f1-score   ...  \n",
              "5                 precision    recall  f1-score   ...  \n",
              "9                 precision    recall  f1-score   ...  \n",
              "0                 precision    recall  f1-score   ...  \n",
              "4                 precision    recall  f1-score   ...  \n",
              "8                 precision    recall  f1-score   ...  \n",
              "11                precision    recall  f1-score   ...  \n",
              "7                 precision    recall  f1-score   ...  \n",
              "3                 precision    recall  f1-score   ...  \n",
              "10                precision    recall  f1-score   ...  \n",
              "6                 precision    recall  f1-score   ...  \n",
              "2                 precision    recall  f1-score   ...  "
            ],
            "text/html": [
              "\n",
              "  <div id=\"df-f09be7a5-66f8-434c-927a-7167a07f78f4\" class=\"colab-df-container\">\n",
              "    <div>\n",
              "<style scoped>\n",
              "    .dataframe tbody tr th:only-of-type {\n",
              "        vertical-align: middle;\n",
              "    }\n",
              "\n",
              "    .dataframe tbody tr th {\n",
              "        vertical-align: top;\n",
              "    }\n",
              "\n",
              "    .dataframe thead th {\n",
              "        text-align: right;\n",
              "    }\n",
              "</style>\n",
              "<table border=\"1\" class=\"dataframe\">\n",
              "  <thead>\n",
              "    <tr style=\"text-align: right;\">\n",
              "      <th></th>\n",
              "      <th>n_components</th>\n",
              "      <th>covariance_type</th>\n",
              "      <th>silhouette_score</th>\n",
              "      <th>confusion_matrix</th>\n",
              "      <th>accuracy</th>\n",
              "      <th>Classification_report</th>\n",
              "    </tr>\n",
              "  </thead>\n",
              "  <tbody>\n",
              "    <tr>\n",
              "      <th>1</th>\n",
              "      <td>5</td>\n",
              "      <td>tied</td>\n",
              "      <td>0.108140</td>\n",
              "      <td>[[271, 0, 2, 0, 7, 0], [0, 155, 13, 38, 0, 0],...</td>\n",
              "      <td>0.544528</td>\n",
              "      <td>precision    recall  f1-score   ...</td>\n",
              "    </tr>\n",
              "    <tr>\n",
              "      <th>5</th>\n",
              "      <td>6</td>\n",
              "      <td>tied</td>\n",
              "      <td>0.110706</td>\n",
              "      <td>[[255, 0, 0, 0, 5, 20], [0, 154, 15, 37, 0, 0]...</td>\n",
              "      <td>0.542488</td>\n",
              "      <td>precision    recall  f1-score   ...</td>\n",
              "    </tr>\n",
              "    <tr>\n",
              "      <th>9</th>\n",
              "      <td>7</td>\n",
              "      <td>tied</td>\n",
              "      <td>0.084317</td>\n",
              "      <td>[[255, 0, 0, 0, 5, 20, 0], [0, 108, 59, 26, 0,...</td>\n",
              "      <td>0.518015</td>\n",
              "      <td>precision    recall  f1-score   ...</td>\n",
              "    </tr>\n",
              "    <tr>\n",
              "      <th>0</th>\n",
              "      <td>5</td>\n",
              "      <td>full</td>\n",
              "      <td>0.111841</td>\n",
              "      <td>[[254, 0, 14, 0, 12, 0], [0, 175, 31, 0, 0, 0]...</td>\n",
              "      <td>0.517335</td>\n",
              "      <td>precision    recall  f1-score   ...</td>\n",
              "    </tr>\n",
              "    <tr>\n",
              "      <th>4</th>\n",
              "      <td>6</td>\n",
              "      <td>full</td>\n",
              "      <td>0.103356</td>\n",
              "      <td>[[212, 0, 3, 0, 4, 61], [0, 170, 36, 0, 0, 0],...</td>\n",
              "      <td>0.473827</td>\n",
              "      <td>precision    recall  f1-score   ...</td>\n",
              "    </tr>\n",
              "    <tr>\n",
              "      <th>8</th>\n",
              "      <td>7</td>\n",
              "      <td>full</td>\n",
              "      <td>0.065142</td>\n",
              "      <td>[[212, 0, 0, 0, 4, 62, 2], [0, 134, 53, 0, 0, ...</td>\n",
              "      <td>0.464310</td>\n",
              "      <td>precision    recall  f1-score   ...</td>\n",
              "    </tr>\n",
              "    <tr>\n",
              "      <th>11</th>\n",
              "      <td>7</td>\n",
              "      <td>spherical</td>\n",
              "      <td>0.062051</td>\n",
              "      <td>[[213, 0, 0, 5, 1, 61, 0], [0, 116, 25, 39, 0,...</td>\n",
              "      <td>0.426920</td>\n",
              "      <td>precision    recall  f1-score   ...</td>\n",
              "    </tr>\n",
              "    <tr>\n",
              "      <th>7</th>\n",
              "      <td>6</td>\n",
              "      <td>spherical</td>\n",
              "      <td>0.088571</td>\n",
              "      <td>[[213, 0, 0, 5, 1, 61], [0, 119, 40, 47, 0, 0]...</td>\n",
              "      <td>0.417403</td>\n",
              "      <td>precision    recall  f1-score   ...</td>\n",
              "    </tr>\n",
              "    <tr>\n",
              "      <th>3</th>\n",
              "      <td>5</td>\n",
              "      <td>spherical</td>\n",
              "      <td>0.108123</td>\n",
              "      <td>[[126, 0, 0, 5, 149, 0], [0, 118, 40, 48, 0, 0...</td>\n",
              "      <td>0.353501</td>\n",
              "      <td>precision    recall  f1-score   ...</td>\n",
              "    </tr>\n",
              "    <tr>\n",
              "      <th>10</th>\n",
              "      <td>7</td>\n",
              "      <td>diag</td>\n",
              "      <td>0.044810</td>\n",
              "      <td>[[154, 0, 0, 0, 75, 46, 5], [0, 97, 37, 61, 0,...</td>\n",
              "      <td>0.307274</td>\n",
              "      <td>precision    recall  f1-score   ...</td>\n",
              "    </tr>\n",
              "    <tr>\n",
              "      <th>6</th>\n",
              "      <td>6</td>\n",
              "      <td>diag</td>\n",
              "      <td>0.055868</td>\n",
              "      <td>[[154, 0, 3, 0, 75, 48], [0, 97, 20, 89, 0, 0]...</td>\n",
              "      <td>0.260367</td>\n",
              "      <td>precision    recall  f1-score   ...</td>\n",
              "    </tr>\n",
              "    <tr>\n",
              "      <th>2</th>\n",
              "      <td>5</td>\n",
              "      <td>diag</td>\n",
              "      <td>0.101837</td>\n",
              "      <td>[[74, 3, 48, 0, 155, 0], [0, 73, 0, 133, 0, 0]...</td>\n",
              "      <td>0.203263</td>\n",
              "      <td>precision    recall  f1-score   ...</td>\n",
              "    </tr>\n",
              "  </tbody>\n",
              "</table>\n",
              "</div>\n",
              "    <div class=\"colab-df-buttons\">\n",
              "\n",
              "  <div class=\"colab-df-container\">\n",
              "    <button class=\"colab-df-convert\" onclick=\"convertToInteractive('df-f09be7a5-66f8-434c-927a-7167a07f78f4')\"\n",
              "            title=\"Convert this dataframe to an interactive table.\"\n",
              "            style=\"display:none;\">\n",
              "\n",
              "  <svg xmlns=\"http://www.w3.org/2000/svg\" height=\"24px\" viewBox=\"0 -960 960 960\">\n",
              "    <path d=\"M120-120v-720h720v720H120Zm60-500h600v-160H180v160Zm220 220h160v-160H400v160Zm0 220h160v-160H400v160ZM180-400h160v-160H180v160Zm440 0h160v-160H620v160ZM180-180h160v-160H180v160Zm440 0h160v-160H620v160Z\"/>\n",
              "  </svg>\n",
              "    </button>\n",
              "\n",
              "  <style>\n",
              "    .colab-df-container {\n",
              "      display:flex;\n",
              "      gap: 12px;\n",
              "    }\n",
              "\n",
              "    .colab-df-convert {\n",
              "      background-color: #E8F0FE;\n",
              "      border: none;\n",
              "      border-radius: 50%;\n",
              "      cursor: pointer;\n",
              "      display: none;\n",
              "      fill: #1967D2;\n",
              "      height: 32px;\n",
              "      padding: 0 0 0 0;\n",
              "      width: 32px;\n",
              "    }\n",
              "\n",
              "    .colab-df-convert:hover {\n",
              "      background-color: #E2EBFA;\n",
              "      box-shadow: 0px 1px 2px rgba(60, 64, 67, 0.3), 0px 1px 3px 1px rgba(60, 64, 67, 0.15);\n",
              "      fill: #174EA6;\n",
              "    }\n",
              "\n",
              "    .colab-df-buttons div {\n",
              "      margin-bottom: 4px;\n",
              "    }\n",
              "\n",
              "    [theme=dark] .colab-df-convert {\n",
              "      background-color: #3B4455;\n",
              "      fill: #D2E3FC;\n",
              "    }\n",
              "\n",
              "    [theme=dark] .colab-df-convert:hover {\n",
              "      background-color: #434B5C;\n",
              "      box-shadow: 0px 1px 3px 1px rgba(0, 0, 0, 0.15);\n",
              "      filter: drop-shadow(0px 1px 2px rgba(0, 0, 0, 0.3));\n",
              "      fill: #FFFFFF;\n",
              "    }\n",
              "  </style>\n",
              "\n",
              "    <script>\n",
              "      const buttonEl =\n",
              "        document.querySelector('#df-f09be7a5-66f8-434c-927a-7167a07f78f4 button.colab-df-convert');\n",
              "      buttonEl.style.display =\n",
              "        google.colab.kernel.accessAllowed ? 'block' : 'none';\n",
              "\n",
              "      async function convertToInteractive(key) {\n",
              "        const element = document.querySelector('#df-f09be7a5-66f8-434c-927a-7167a07f78f4');\n",
              "        const dataTable =\n",
              "          await google.colab.kernel.invokeFunction('convertToInteractive',\n",
              "                                                    [key], {});\n",
              "        if (!dataTable) return;\n",
              "\n",
              "        const docLinkHtml = 'Like what you see? Visit the ' +\n",
              "          '<a target=\"_blank\" href=https://colab.research.google.com/notebooks/data_table.ipynb>data table notebook</a>'\n",
              "          + ' to learn more about interactive tables.';\n",
              "        element.innerHTML = '';\n",
              "        dataTable['output_type'] = 'display_data';\n",
              "        await google.colab.output.renderOutput(dataTable, element);\n",
              "        const docLink = document.createElement('div');\n",
              "        docLink.innerHTML = docLinkHtml;\n",
              "        element.appendChild(docLink);\n",
              "      }\n",
              "    </script>\n",
              "  </div>\n",
              "\n",
              "\n",
              "<div id=\"df-ac7922a1-7536-4744-8a36-107a8bddcd9f\">\n",
              "  <button class=\"colab-df-quickchart\" onclick=\"quickchart('df-ac7922a1-7536-4744-8a36-107a8bddcd9f')\"\n",
              "            title=\"Suggest charts\"\n",
              "            style=\"display:none;\">\n",
              "\n",
              "<svg xmlns=\"http://www.w3.org/2000/svg\" height=\"24px\"viewBox=\"0 0 24 24\"\n",
              "     width=\"24px\">\n",
              "    <g>\n",
              "        <path d=\"M19 3H5c-1.1 0-2 .9-2 2v14c0 1.1.9 2 2 2h14c1.1 0 2-.9 2-2V5c0-1.1-.9-2-2-2zM9 17H7v-7h2v7zm4 0h-2V7h2v10zm4 0h-2v-4h2v4z\"/>\n",
              "    </g>\n",
              "</svg>\n",
              "  </button>\n",
              "\n",
              "<style>\n",
              "  .colab-df-quickchart {\n",
              "      --bg-color: #E8F0FE;\n",
              "      --fill-color: #1967D2;\n",
              "      --hover-bg-color: #E2EBFA;\n",
              "      --hover-fill-color: #174EA6;\n",
              "      --disabled-fill-color: #AAA;\n",
              "      --disabled-bg-color: #DDD;\n",
              "  }\n",
              "\n",
              "  [theme=dark] .colab-df-quickchart {\n",
              "      --bg-color: #3B4455;\n",
              "      --fill-color: #D2E3FC;\n",
              "      --hover-bg-color: #434B5C;\n",
              "      --hover-fill-color: #FFFFFF;\n",
              "      --disabled-bg-color: #3B4455;\n",
              "      --disabled-fill-color: #666;\n",
              "  }\n",
              "\n",
              "  .colab-df-quickchart {\n",
              "    background-color: var(--bg-color);\n",
              "    border: none;\n",
              "    border-radius: 50%;\n",
              "    cursor: pointer;\n",
              "    display: none;\n",
              "    fill: var(--fill-color);\n",
              "    height: 32px;\n",
              "    padding: 0;\n",
              "    width: 32px;\n",
              "  }\n",
              "\n",
              "  .colab-df-quickchart:hover {\n",
              "    background-color: var(--hover-bg-color);\n",
              "    box-shadow: 0 1px 2px rgba(60, 64, 67, 0.3), 0 1px 3px 1px rgba(60, 64, 67, 0.15);\n",
              "    fill: var(--button-hover-fill-color);\n",
              "  }\n",
              "\n",
              "  .colab-df-quickchart-complete:disabled,\n",
              "  .colab-df-quickchart-complete:disabled:hover {\n",
              "    background-color: var(--disabled-bg-color);\n",
              "    fill: var(--disabled-fill-color);\n",
              "    box-shadow: none;\n",
              "  }\n",
              "\n",
              "  .colab-df-spinner {\n",
              "    border: 2px solid var(--fill-color);\n",
              "    border-color: transparent;\n",
              "    border-bottom-color: var(--fill-color);\n",
              "    animation:\n",
              "      spin 1s steps(1) infinite;\n",
              "  }\n",
              "\n",
              "  @keyframes spin {\n",
              "    0% {\n",
              "      border-color: transparent;\n",
              "      border-bottom-color: var(--fill-color);\n",
              "      border-left-color: var(--fill-color);\n",
              "    }\n",
              "    20% {\n",
              "      border-color: transparent;\n",
              "      border-left-color: var(--fill-color);\n",
              "      border-top-color: var(--fill-color);\n",
              "    }\n",
              "    30% {\n",
              "      border-color: transparent;\n",
              "      border-left-color: var(--fill-color);\n",
              "      border-top-color: var(--fill-color);\n",
              "      border-right-color: var(--fill-color);\n",
              "    }\n",
              "    40% {\n",
              "      border-color: transparent;\n",
              "      border-right-color: var(--fill-color);\n",
              "      border-top-color: var(--fill-color);\n",
              "    }\n",
              "    60% {\n",
              "      border-color: transparent;\n",
              "      border-right-color: var(--fill-color);\n",
              "    }\n",
              "    80% {\n",
              "      border-color: transparent;\n",
              "      border-right-color: var(--fill-color);\n",
              "      border-bottom-color: var(--fill-color);\n",
              "    }\n",
              "    90% {\n",
              "      border-color: transparent;\n",
              "      border-bottom-color: var(--fill-color);\n",
              "    }\n",
              "  }\n",
              "</style>\n",
              "\n",
              "  <script>\n",
              "    async function quickchart(key) {\n",
              "      const quickchartButtonEl =\n",
              "        document.querySelector('#' + key + ' button');\n",
              "      quickchartButtonEl.disabled = true;  // To prevent multiple clicks.\n",
              "      quickchartButtonEl.classList.add('colab-df-spinner');\n",
              "      try {\n",
              "        const charts = await google.colab.kernel.invokeFunction(\n",
              "            'suggestCharts', [key], {});\n",
              "      } catch (error) {\n",
              "        console.error('Error during call to suggestCharts:', error);\n",
              "      }\n",
              "      quickchartButtonEl.classList.remove('colab-df-spinner');\n",
              "      quickchartButtonEl.classList.add('colab-df-quickchart-complete');\n",
              "    }\n",
              "    (() => {\n",
              "      let quickchartButtonEl =\n",
              "        document.querySelector('#df-ac7922a1-7536-4744-8a36-107a8bddcd9f button');\n",
              "      quickchartButtonEl.style.display =\n",
              "        google.colab.kernel.accessAllowed ? 'block' : 'none';\n",
              "    })();\n",
              "  </script>\n",
              "</div>\n",
              "\n",
              "    </div>\n",
              "  </div>\n"
            ],
            "application/vnd.google.colaboratory.intrinsic+json": {
              "type": "dataframe",
              "summary": "{\n  \"name\": \"gmm_results_df\",\n  \"rows\": 12,\n  \"fields\": [\n    {\n      \"column\": \"n_components\",\n      \"properties\": {\n        \"dtype\": \"number\",\n        \"std\": 0,\n        \"min\": 5,\n        \"max\": 7,\n        \"num_unique_values\": 3,\n        \"samples\": [\n          5,\n          6,\n          7\n        ],\n        \"semantic_type\": \"\",\n        \"description\": \"\"\n      }\n    },\n    {\n      \"column\": \"covariance_type\",\n      \"properties\": {\n        \"dtype\": \"category\",\n        \"num_unique_values\": 4,\n        \"samples\": [\n          \"full\",\n          \"diag\",\n          \"tied\"\n        ],\n        \"semantic_type\": \"\",\n        \"description\": \"\"\n      }\n    },\n    {\n      \"column\": \"silhouette_score\",\n      \"properties\": {\n        \"dtype\": \"number\",\n        \"std\": 0.024156430420630832,\n        \"min\": 0.04480951647192213,\n        \"max\": 0.11184092865249638,\n        \"num_unique_values\": 12,\n        \"samples\": [\n          0.05586780977083385,\n          0.04480951647192213,\n          0.10814029633009198\n        ],\n        \"semantic_type\": \"\",\n        \"description\": \"\"\n      }\n    },\n    {\n      \"column\": \"confusion_matrix\",\n      \"properties\": {\n        \"dtype\": \"object\",\n        \"semantic_type\": \"\",\n        \"description\": \"\"\n      }\n    },\n    {\n      \"column\": \"accuracy\",\n      \"properties\": {\n        \"dtype\": \"number\",\n        \"std\": 0.11444890151158654,\n        \"min\": 0.20326308633582596,\n        \"max\": 0.5445275322909585,\n        \"num_unique_values\": 12,\n        \"samples\": [\n          0.2603670972127804,\n          0.30727396329027873,\n          0.5445275322909585\n        ],\n        \"semantic_type\": \"\",\n        \"description\": \"\"\n      }\n    },\n    {\n      \"column\": \"Classification_report\",\n      \"properties\": {\n        \"dtype\": \"string\",\n        \"num_unique_values\": 12,\n        \"samples\": [\n          \"              precision    recall  f1-score   support\\n\\n           0       0.35      0.55      0.43       280\\n           1       0.34      0.47      0.39       206\\n           2       0.27      0.23      0.25       247\\n           3       0.00      0.00      0.00       276\\n           4       0.32      0.28      0.30       262\\n           5       0.00      0.00      0.00       200\\n\\n    accuracy                           0.26      1471\\n   macro avg       0.21      0.26      0.23      1471\\nweighted avg       0.22      0.26      0.23      1471\\n\",\n          \"              precision    recall  f1-score   support\\n\\n           0       0.36      0.55      0.43       280\\n           1       0.50      0.47      0.49       206\\n           2       0.55      0.51      0.53       247\\n           3       0.00      0.00      0.00       276\\n           4       0.32      0.28      0.30       262\\n           5       0.00      0.00      0.00       200\\n           6       0.00      0.00      0.00         0\\n\\n    accuracy                           0.31      1471\\n   macro avg       0.25      0.26      0.25      1471\\nweighted avg       0.29      0.31      0.29      1471\\n\",\n          \"              precision    recall  f1-score   support\\n\\n           0       0.97      0.97      0.97       280\\n           1       0.53      0.75      0.62       206\\n           2       0.39      0.49      0.43       247\\n           3       0.00      0.00      0.00       276\\n           4       0.47      0.97      0.64       262\\n           5       0.00      0.00      0.00       200\\n\\n    accuracy                           0.54      1471\\n   macro avg       0.39      0.53      0.44      1471\\nweighted avg       0.41      0.54      0.46      1471\\n\"\n        ],\n        \"semantic_type\": \"\",\n        \"description\": \"\"\n      }\n    }\n  ]\n}"
            }
          },
          "metadata": {},
          "execution_count": 93
        }
      ]
    },
    {
      "cell_type": "code",
      "source": [
        "# Aplicar GMM\n",
        "gmm = GaussianMixture(n_components=6, covariance_type='tied',random_state=42)\n",
        "gmm.fit(X_train_scaled)"
      ],
      "metadata": {
        "colab": {
          "base_uri": "https://localhost:8080/",
          "height": 74
        },
        "id": "MH8bKmDGhmbs",
        "outputId": "5fbf8889-494e-4f20-8542-409f5c9a8e0b"
      },
      "execution_count": 125,
      "outputs": [
        {
          "output_type": "execute_result",
          "data": {
            "text/plain": [
              "GaussianMixture(covariance_type='tied', n_components=6, random_state=42)"
            ],
            "text/html": [
              "<style>#sk-container-id-6 {color: black;background-color: white;}#sk-container-id-6 pre{padding: 0;}#sk-container-id-6 div.sk-toggleable {background-color: white;}#sk-container-id-6 label.sk-toggleable__label {cursor: pointer;display: block;width: 100%;margin-bottom: 0;padding: 0.3em;box-sizing: border-box;text-align: center;}#sk-container-id-6 label.sk-toggleable__label-arrow:before {content: \"▸\";float: left;margin-right: 0.25em;color: #696969;}#sk-container-id-6 label.sk-toggleable__label-arrow:hover:before {color: black;}#sk-container-id-6 div.sk-estimator:hover label.sk-toggleable__label-arrow:before {color: black;}#sk-container-id-6 div.sk-toggleable__content {max-height: 0;max-width: 0;overflow: hidden;text-align: left;background-color: #f0f8ff;}#sk-container-id-6 div.sk-toggleable__content pre {margin: 0.2em;color: black;border-radius: 0.25em;background-color: #f0f8ff;}#sk-container-id-6 input.sk-toggleable__control:checked~div.sk-toggleable__content {max-height: 200px;max-width: 100%;overflow: auto;}#sk-container-id-6 input.sk-toggleable__control:checked~label.sk-toggleable__label-arrow:before {content: \"▾\";}#sk-container-id-6 div.sk-estimator input.sk-toggleable__control:checked~label.sk-toggleable__label {background-color: #d4ebff;}#sk-container-id-6 div.sk-label input.sk-toggleable__control:checked~label.sk-toggleable__label {background-color: #d4ebff;}#sk-container-id-6 input.sk-hidden--visually {border: 0;clip: rect(1px 1px 1px 1px);clip: rect(1px, 1px, 1px, 1px);height: 1px;margin: -1px;overflow: hidden;padding: 0;position: absolute;width: 1px;}#sk-container-id-6 div.sk-estimator {font-family: monospace;background-color: #f0f8ff;border: 1px dotted black;border-radius: 0.25em;box-sizing: border-box;margin-bottom: 0.5em;}#sk-container-id-6 div.sk-estimator:hover {background-color: #d4ebff;}#sk-container-id-6 div.sk-parallel-item::after {content: \"\";width: 100%;border-bottom: 1px solid gray;flex-grow: 1;}#sk-container-id-6 div.sk-label:hover label.sk-toggleable__label {background-color: #d4ebff;}#sk-container-id-6 div.sk-serial::before {content: \"\";position: absolute;border-left: 1px solid gray;box-sizing: border-box;top: 0;bottom: 0;left: 50%;z-index: 0;}#sk-container-id-6 div.sk-serial {display: flex;flex-direction: column;align-items: center;background-color: white;padding-right: 0.2em;padding-left: 0.2em;position: relative;}#sk-container-id-6 div.sk-item {position: relative;z-index: 1;}#sk-container-id-6 div.sk-parallel {display: flex;align-items: stretch;justify-content: center;background-color: white;position: relative;}#sk-container-id-6 div.sk-item::before, #sk-container-id-6 div.sk-parallel-item::before {content: \"\";position: absolute;border-left: 1px solid gray;box-sizing: border-box;top: 0;bottom: 0;left: 50%;z-index: -1;}#sk-container-id-6 div.sk-parallel-item {display: flex;flex-direction: column;z-index: 1;position: relative;background-color: white;}#sk-container-id-6 div.sk-parallel-item:first-child::after {align-self: flex-end;width: 50%;}#sk-container-id-6 div.sk-parallel-item:last-child::after {align-self: flex-start;width: 50%;}#sk-container-id-6 div.sk-parallel-item:only-child::after {width: 0;}#sk-container-id-6 div.sk-dashed-wrapped {border: 1px dashed gray;margin: 0 0.4em 0.5em 0.4em;box-sizing: border-box;padding-bottom: 0.4em;background-color: white;}#sk-container-id-6 div.sk-label label {font-family: monospace;font-weight: bold;display: inline-block;line-height: 1.2em;}#sk-container-id-6 div.sk-label-container {text-align: center;}#sk-container-id-6 div.sk-container {/* jupyter's `normalize.less` sets `[hidden] { display: none; }` but bootstrap.min.css set `[hidden] { display: none !important; }` so we also need the `!important` here to be able to override the default hidden behavior on the sphinx rendered scikit-learn.org. See: https://github.com/scikit-learn/scikit-learn/issues/21755 */display: inline-block !important;position: relative;}#sk-container-id-6 div.sk-text-repr-fallback {display: none;}</style><div id=\"sk-container-id-6\" class=\"sk-top-container\"><div class=\"sk-text-repr-fallback\"><pre>GaussianMixture(covariance_type=&#x27;tied&#x27;, n_components=6, random_state=42)</pre><b>In a Jupyter environment, please rerun this cell to show the HTML representation or trust the notebook. <br />On GitHub, the HTML representation is unable to render, please try loading this page with nbviewer.org.</b></div><div class=\"sk-container\" hidden><div class=\"sk-item\"><div class=\"sk-estimator sk-toggleable\"><input class=\"sk-toggleable__control sk-hidden--visually\" id=\"sk-estimator-id-6\" type=\"checkbox\" checked><label for=\"sk-estimator-id-6\" class=\"sk-toggleable__label sk-toggleable__label-arrow\">GaussianMixture</label><div class=\"sk-toggleable__content\"><pre>GaussianMixture(covariance_type=&#x27;tied&#x27;, n_components=6, random_state=42)</pre></div></div></div></div></div>"
            ]
          },
          "metadata": {},
          "execution_count": 125
        }
      ]
    },
    {
      "cell_type": "code",
      "source": [
        "# Predecir las etiquetas para el conjunto de prueba\n",
        "y_pred = gmm.predict(X_test_scaled)\n"
      ],
      "metadata": {
        "id": "DtrUyzfjpOsJ"
      },
      "execution_count": 126,
      "outputs": []
    },
    {
      "cell_type": "code",
      "source": [
        "# Evaluar el rendimiento del modelo\n",
        "accuracy = accuracy_score(y_test, y_pred)\n",
        "print(f'Precisión del modelo GMM: {accuracy:.2f}')\n",
        "silhouette_avg = silhouette_score(X_test_scaled, y_pred)\n",
        "silhouette_avg"
      ],
      "metadata": {
        "colab": {
          "base_uri": "https://localhost:8080/"
        },
        "id": "SGs2FU0vpr3i",
        "outputId": "a949d2d4-d753-426c-e140-9cd4b31f8459"
      },
      "execution_count": 127,
      "outputs": [
        {
          "output_type": "stream",
          "name": "stdout",
          "text": [
            "Precisión del modelo GMM: 0.54\n"
          ]
        },
        {
          "output_type": "execute_result",
          "data": {
            "text/plain": [
              "0.11070586444533606"
            ]
          },
          "metadata": {},
          "execution_count": 127
        }
      ]
    },
    {
      "cell_type": "code",
      "source": [
        "# Imprimir la matriz de confusión\n",
        "print(\"Matriz de Confusión:\")\n",
        "print(confusion_matrix(y_test, y_pred))\n",
        "\n",
        "# Imprimir el reporte de clasificación\n",
        "print(\"\\nReporte de Clasificación:\")\n",
        "print(classification_report(y_test, y_pred, target_names=label_encoder.classes_))"
      ],
      "metadata": {
        "colab": {
          "base_uri": "https://localhost:8080/"
        },
        "id": "R8sW3XNfpZdh",
        "outputId": "705c3f68-674a-4749-965e-dcfbc0d86f6c"
      },
      "execution_count": 173,
      "outputs": [
        {
          "output_type": "stream",
          "name": "stdout",
          "text": [
            "Matriz de Confusión:\n",
            "[[255   0   0   0   5  20]\n",
            " [  0 154  15  37   0   0]\n",
            " [  0  85 149  13   0   0]\n",
            " [  0   0   0   0 267   9]\n",
            " [  8   0   0   0 240  14]\n",
            " [  0  25 173   2   0   0]]\n",
            "\n",
            "Reporte de Clasificación:\n",
            "                    precision    recall  f1-score   support\n",
            "\n",
            "          Acostado       0.97      0.91      0.94       280\n",
            " Bajando escaleras       0.58      0.75      0.66       206\n",
            "           Caminar       0.44      0.60      0.51       247\n",
            "            De pie       0.00      0.00      0.00       276\n",
            "           Sentado       0.47      0.92      0.62       262\n",
            "Subiendo escaleras       0.00      0.00      0.00       200\n",
            "\n",
            "          accuracy                           0.54      1471\n",
            "         macro avg       0.41      0.53      0.45      1471\n",
            "      weighted avg       0.42      0.54      0.47      1471\n",
            "\n"
          ]
        }
      ]
    },
    {
      "cell_type": "code",
      "source": [
        "# Graficar la matriz de confusión\n",
        "plt.figure(figsize=(10, 8))\n",
        "sns.heatmap(confusion_matrix(y_test, y_pred), annot=True, fmt=\"d\", cmap=\"Blues\", xticklabels=label_encoder.classes_, yticklabels=label_encoder.classes_)\n",
        "plt.xlabel('Prediccón')\n",
        "plt.ylabel('Verdadero')\n",
        "plt.show()"
      ],
      "metadata": {
        "colab": {
          "base_uri": "https://localhost:8080/",
          "height": 696
        },
        "id": "rNWJb8heqDXP",
        "outputId": "9bec0076-b385-4f11-cc1c-50275101e1f1"
      },
      "execution_count": 166,
      "outputs": [
        {
          "output_type": "display_data",
          "data": {
            "text/plain": [
              "<Figure size 1000x800 with 2 Axes>"
            ],
            "image/png": "[encoded data removed]"
          },
          "metadata": {}
        }
      ]
    },
    {
      "cell_type": "code",
      "source": [
        "# Visualizar algunos resultados (utilizando solo dos componentes principales para una visualización simplificada)\n",
        "\n",
        "\n",
        "pca = PCA(n_components=2)\n",
        "X_pca = pca.fit_transform(X_train_scaled)\n",
        "\n",
        "plt.scatter(X_pca[:, 0], X_pca[:, 1], c=labels, cmap='viridis')\n",
        "plt.title('Clustering de GMM en datos HAR')\n",
        "plt.xlabel('Componente Principal 1')\n",
        "plt.ylabel('Componente Principal 2')\n",
        "plt.colorbar(label='Cluster')\n",
        "plt.show()"
      ],
      "metadata": {
        "colab": {
          "base_uri": "https://localhost:8080/",
          "height": 472
        },
        "id": "x0Lpq5iXh1nl",
        "outputId": "84913317-ce66-455f-f940-dd296f0671de"
      },
      "execution_count": 130,
      "outputs": [
        {
          "output_type": "display_data",
          "data": {
            "text/plain": [
              "<Figure size 640x480 with 2 Axes>"
            ],
            "image/png": "[encoded data removed]"
          },
          "metadata": {}
        }
      ]
    }
  ]
}