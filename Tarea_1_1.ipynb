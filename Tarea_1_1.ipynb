{
  "nbformat": 4,
  "nbformat_minor": 0,
  "metadata": {
    "colab": {
      "provenance": [],
      "authorship_tag": "ABX9TyOYllAJg6XjQisA/lXAZI18",
      "include_colab_link": true
    },
    "kernelspec": {
      "name": "python3",
      "display_name": "Python 3"
    },
    "language_info": {
      "name": "python"
    }
  },
  "cells": [
    {
      "cell_type": "markdown",
      "metadata": {
        "id": "view-in-github",
        "colab_type": "text"
      },
      "source": [
        "<a href=\"https://colab.research.google.com/github/alvaro-salgado/AA_MCD/blob/main/Tarea_1_1.ipynb\" target=\"_parent\"><img src=\"https://colab.research.google.com/assets/colab-badge.svg\" alt=\"Open In Colab\"/></a>"
      ]
    },
    {
      "cell_type": "code",
      "execution_count": null,
      "metadata": {
        "id": "1S_B1DS5PHSm"
      },
      "outputs": [],
      "source": []
    },
    {
      "cell_type": "markdown",
      "source": [
        "# Tarea 1.1\n",
        "\n",
        "Se seleccionó el conjunto de datos [Reconocimiento de Actividad Humana con Teléfonos Inteligentes](https://www.kaggle.com/datasets/uciml/human-activity-recognition-with-smartphones?select=test.csv \"Title\") disponible en Kaggle ya que mayoría de las personas llevan consigo un teléfono inteligente en todo momento, lo que lo convierte en un dispositivo ideal para capturar datos sobre las actividades realizadas a lo largo del día.\n",
        "\n",
        "La disponibilidad de sensores de acelerometría y giroscopio en los teléfonos inteligentes ofrece una oportunidad para recopilar información detallada sobre los movimientos y patrones de actividad de los usuarios. Por lo tanto el objetivo es desarrollar un modelo de reconocimiento de actividad humana que puede tener aplicaciones en una amplia gama de campos, como la salud, el fitness, la seguridad y la inteligencia ambiental.\n",
        "\n",
        "Al aprovechar estos datos, se pretende desarrollar algoritmos que puedan identificar automáticamente las actividades realizadas por un individuo en un momento dado, lo que puede proporcionar información valiosa para la toma de decisiones en diversos contextos. Además, el uso de datos recopilados de manera no intrusiva a través de teléfonos inteligentes garantiza la privacidad y la comodidad de los usuarios.\n",
        "\n",
        "En resumen, la elección de este conjunto de datos se justifica por su relevancia en la vida cotidiana de las personas y su potencial para impulsar avances significativos en el campo del reconocimiento de actividad humana utilizando tecnología ampliamente disponible y accesible.\n",
        "\n",
        "Como se mencionó anteriormente, el objetivo principal de este estudio es desarrollar un modelo capaz de clasificar las señales de acelerometría en seis tipos distintos de movimientos, tal como se detalla en el conjunto de datos. Estos movimientos incluyen:\n",
        "* caminar\n",
        "* subir escaleras\n",
        "* bajar escaleras\n",
        "* estar sentado\n",
        "* estar de pie\n",
        "* estar acostado\n",
        "\n"
      ],
      "metadata": {
        "id": "gWwsUxZHPfH5"
      }
    }
  ]
}